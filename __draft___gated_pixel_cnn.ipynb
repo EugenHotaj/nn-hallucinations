{
  "nbformat": 4,
  "nbformat_minor": 0,
  "metadata": {
    "colab": {
      "name": "__draft___gated_pixel_cnn.ipynb",
      "provenance": [],
      "collapsed_sections": [],
      "authorship_tag": "ABX9TyOTsp+UWb+d230w8Tj7iAwl",
      "include_colab_link": true
    },
    "kernelspec": {
      "name": "python3",
      "display_name": "Python 3"
    },
    "accelerator": "GPU",
    "widgets": {
      "application/vnd.jupyter.widget-state+json": {
        "242d4d7e8e3548b08ec1e21c1b89c04d": {
          "model_module": "@jupyter-widgets/controls",
          "model_name": "HBoxModel",
          "state": {
            "_view_name": "HBoxView",
            "_dom_classes": [],
            "_model_name": "HBoxModel",
            "_view_module": "@jupyter-widgets/controls",
            "_model_module_version": "1.5.0",
            "_view_count": null,
            "_view_module_version": "1.5.0",
            "box_style": "",
            "layout": "IPY_MODEL_26371d5ffd594784928e6702fd04ca98",
            "_model_module": "@jupyter-widgets/controls",
            "children": [
              "IPY_MODEL_9a7cf3826462449e9c09115c7547d38e",
              "IPY_MODEL_5c68187505fd4a10923acaa86a495cdb"
            ]
          }
        },
        "26371d5ffd594784928e6702fd04ca98": {
          "model_module": "@jupyter-widgets/base",
          "model_name": "LayoutModel",
          "state": {
            "_view_name": "LayoutView",
            "grid_template_rows": null,
            "right": null,
            "justify_content": null,
            "_view_module": "@jupyter-widgets/base",
            "overflow": null,
            "_model_module_version": "1.2.0",
            "_view_count": null,
            "flex_flow": null,
            "width": null,
            "min_width": null,
            "border": null,
            "align_items": null,
            "bottom": null,
            "_model_module": "@jupyter-widgets/base",
            "top": null,
            "grid_column": null,
            "overflow_y": null,
            "overflow_x": null,
            "grid_auto_flow": null,
            "grid_area": null,
            "grid_template_columns": null,
            "flex": null,
            "_model_name": "LayoutModel",
            "justify_items": null,
            "grid_row": null,
            "max_height": null,
            "align_content": null,
            "visibility": null,
            "align_self": null,
            "height": null,
            "min_height": null,
            "padding": null,
            "grid_auto_rows": null,
            "grid_gap": null,
            "max_width": null,
            "order": null,
            "_view_module_version": "1.2.0",
            "grid_template_areas": null,
            "object_position": null,
            "object_fit": null,
            "grid_auto_columns": null,
            "margin": null,
            "display": null,
            "left": null
          }
        },
        "9a7cf3826462449e9c09115c7547d38e": {
          "model_module": "@jupyter-widgets/controls",
          "model_name": "FloatProgressModel",
          "state": {
            "_view_name": "ProgressView",
            "style": "IPY_MODEL_ce679bf6da1543fe9d3a76b3f69c5303",
            "_dom_classes": [],
            "description": "",
            "_model_name": "FloatProgressModel",
            "bar_style": "info",
            "max": 1,
            "_view_module": "@jupyter-widgets/controls",
            "_model_module_version": "1.5.0",
            "value": 1,
            "_view_count": null,
            "_view_module_version": "1.5.0",
            "orientation": "horizontal",
            "min": 0,
            "description_tooltip": null,
            "_model_module": "@jupyter-widgets/controls",
            "layout": "IPY_MODEL_03b1f9b271b04b1b96adb1591ea22b33"
          }
        },
        "5c68187505fd4a10923acaa86a495cdb": {
          "model_module": "@jupyter-widgets/controls",
          "model_name": "HTMLModel",
          "state": {
            "_view_name": "HTMLView",
            "style": "IPY_MODEL_0975510e12b74e1eb506b90e5ca63f4c",
            "_dom_classes": [],
            "description": "",
            "_model_name": "HTMLModel",
            "placeholder": "​",
            "_view_module": "@jupyter-widgets/controls",
            "_model_module_version": "1.5.0",
            "value": " 9920512/? [00:20&lt;00:00, 1002007.62it/s]",
            "_view_count": null,
            "_view_module_version": "1.5.0",
            "description_tooltip": null,
            "_model_module": "@jupyter-widgets/controls",
            "layout": "IPY_MODEL_d7272701c8a44f4db53e51457f066c62"
          }
        },
        "ce679bf6da1543fe9d3a76b3f69c5303": {
          "model_module": "@jupyter-widgets/controls",
          "model_name": "ProgressStyleModel",
          "state": {
            "_view_name": "StyleView",
            "_model_name": "ProgressStyleModel",
            "description_width": "initial",
            "_view_module": "@jupyter-widgets/base",
            "_model_module_version": "1.5.0",
            "_view_count": null,
            "_view_module_version": "1.2.0",
            "bar_color": null,
            "_model_module": "@jupyter-widgets/controls"
          }
        },
        "03b1f9b271b04b1b96adb1591ea22b33": {
          "model_module": "@jupyter-widgets/base",
          "model_name": "LayoutModel",
          "state": {
            "_view_name": "LayoutView",
            "grid_template_rows": null,
            "right": null,
            "justify_content": null,
            "_view_module": "@jupyter-widgets/base",
            "overflow": null,
            "_model_module_version": "1.2.0",
            "_view_count": null,
            "flex_flow": null,
            "width": null,
            "min_width": null,
            "border": null,
            "align_items": null,
            "bottom": null,
            "_model_module": "@jupyter-widgets/base",
            "top": null,
            "grid_column": null,
            "overflow_y": null,
            "overflow_x": null,
            "grid_auto_flow": null,
            "grid_area": null,
            "grid_template_columns": null,
            "flex": null,
            "_model_name": "LayoutModel",
            "justify_items": null,
            "grid_row": null,
            "max_height": null,
            "align_content": null,
            "visibility": null,
            "align_self": null,
            "height": null,
            "min_height": null,
            "padding": null,
            "grid_auto_rows": null,
            "grid_gap": null,
            "max_width": null,
            "order": null,
            "_view_module_version": "1.2.0",
            "grid_template_areas": null,
            "object_position": null,
            "object_fit": null,
            "grid_auto_columns": null,
            "margin": null,
            "display": null,
            "left": null
          }
        },
        "0975510e12b74e1eb506b90e5ca63f4c": {
          "model_module": "@jupyter-widgets/controls",
          "model_name": "DescriptionStyleModel",
          "state": {
            "_view_name": "StyleView",
            "_model_name": "DescriptionStyleModel",
            "description_width": "",
            "_view_module": "@jupyter-widgets/base",
            "_model_module_version": "1.5.0",
            "_view_count": null,
            "_view_module_version": "1.2.0",
            "_model_module": "@jupyter-widgets/controls"
          }
        },
        "d7272701c8a44f4db53e51457f066c62": {
          "model_module": "@jupyter-widgets/base",
          "model_name": "LayoutModel",
          "state": {
            "_view_name": "LayoutView",
            "grid_template_rows": null,
            "right": null,
            "justify_content": null,
            "_view_module": "@jupyter-widgets/base",
            "overflow": null,
            "_model_module_version": "1.2.0",
            "_view_count": null,
            "flex_flow": null,
            "width": null,
            "min_width": null,
            "border": null,
            "align_items": null,
            "bottom": null,
            "_model_module": "@jupyter-widgets/base",
            "top": null,
            "grid_column": null,
            "overflow_y": null,
            "overflow_x": null,
            "grid_auto_flow": null,
            "grid_area": null,
            "grid_template_columns": null,
            "flex": null,
            "_model_name": "LayoutModel",
            "justify_items": null,
            "grid_row": null,
            "max_height": null,
            "align_content": null,
            "visibility": null,
            "align_self": null,
            "height": null,
            "min_height": null,
            "padding": null,
            "grid_auto_rows": null,
            "grid_gap": null,
            "max_width": null,
            "order": null,
            "_view_module_version": "1.2.0",
            "grid_template_areas": null,
            "object_position": null,
            "object_fit": null,
            "grid_auto_columns": null,
            "margin": null,
            "display": null,
            "left": null
          }
        },
        "ff140e2c8bc24a93b0d9ed35e532ca21": {
          "model_module": "@jupyter-widgets/controls",
          "model_name": "HBoxModel",
          "state": {
            "_view_name": "HBoxView",
            "_dom_classes": [],
            "_model_name": "HBoxModel",
            "_view_module": "@jupyter-widgets/controls",
            "_model_module_version": "1.5.0",
            "_view_count": null,
            "_view_module_version": "1.5.0",
            "box_style": "",
            "layout": "IPY_MODEL_8a9a5f1a5d4148a794ffb33e0a716374",
            "_model_module": "@jupyter-widgets/controls",
            "children": [
              "IPY_MODEL_54b07cdb1e59445183318540c61e4f24",
              "IPY_MODEL_4f5d431f655b4deca2616b31da3a1e39"
            ]
          }
        },
        "8a9a5f1a5d4148a794ffb33e0a716374": {
          "model_module": "@jupyter-widgets/base",
          "model_name": "LayoutModel",
          "state": {
            "_view_name": "LayoutView",
            "grid_template_rows": null,
            "right": null,
            "justify_content": null,
            "_view_module": "@jupyter-widgets/base",
            "overflow": null,
            "_model_module_version": "1.2.0",
            "_view_count": null,
            "flex_flow": null,
            "width": null,
            "min_width": null,
            "border": null,
            "align_items": null,
            "bottom": null,
            "_model_module": "@jupyter-widgets/base",
            "top": null,
            "grid_column": null,
            "overflow_y": null,
            "overflow_x": null,
            "grid_auto_flow": null,
            "grid_area": null,
            "grid_template_columns": null,
            "flex": null,
            "_model_name": "LayoutModel",
            "justify_items": null,
            "grid_row": null,
            "max_height": null,
            "align_content": null,
            "visibility": null,
            "align_self": null,
            "height": null,
            "min_height": null,
            "padding": null,
            "grid_auto_rows": null,
            "grid_gap": null,
            "max_width": null,
            "order": null,
            "_view_module_version": "1.2.0",
            "grid_template_areas": null,
            "object_position": null,
            "object_fit": null,
            "grid_auto_columns": null,
            "margin": null,
            "display": null,
            "left": null
          }
        },
        "54b07cdb1e59445183318540c61e4f24": {
          "model_module": "@jupyter-widgets/controls",
          "model_name": "FloatProgressModel",
          "state": {
            "_view_name": "ProgressView",
            "style": "IPY_MODEL_fcbfdb478fb94c498f15c93120529d2c",
            "_dom_classes": [],
            "description": "",
            "_model_name": "FloatProgressModel",
            "bar_style": "success",
            "max": 1,
            "_view_module": "@jupyter-widgets/controls",
            "_model_module_version": "1.5.0",
            "value": 1,
            "_view_count": null,
            "_view_module_version": "1.5.0",
            "orientation": "horizontal",
            "min": 0,
            "description_tooltip": null,
            "_model_module": "@jupyter-widgets/controls",
            "layout": "IPY_MODEL_bfdc143ee1d04c5e880fa9c93c2c2bd9"
          }
        },
        "4f5d431f655b4deca2616b31da3a1e39": {
          "model_module": "@jupyter-widgets/controls",
          "model_name": "HTMLModel",
          "state": {
            "_view_name": "HTMLView",
            "style": "IPY_MODEL_14efa3adc03d4ba6a004d8f5eec490fd",
            "_dom_classes": [],
            "description": "",
            "_model_name": "HTMLModel",
            "placeholder": "​",
            "_view_module": "@jupyter-widgets/controls",
            "_model_module_version": "1.5.0",
            "value": " 32768/? [00:07&lt;00:00, 4346.79it/s]",
            "_view_count": null,
            "_view_module_version": "1.5.0",
            "description_tooltip": null,
            "_model_module": "@jupyter-widgets/controls",
            "layout": "IPY_MODEL_73e81043f429464992a07719e337e5e8"
          }
        },
        "fcbfdb478fb94c498f15c93120529d2c": {
          "model_module": "@jupyter-widgets/controls",
          "model_name": "ProgressStyleModel",
          "state": {
            "_view_name": "StyleView",
            "_model_name": "ProgressStyleModel",
            "description_width": "initial",
            "_view_module": "@jupyter-widgets/base",
            "_model_module_version": "1.5.0",
            "_view_count": null,
            "_view_module_version": "1.2.0",
            "bar_color": null,
            "_model_module": "@jupyter-widgets/controls"
          }
        },
        "bfdc143ee1d04c5e880fa9c93c2c2bd9": {
          "model_module": "@jupyter-widgets/base",
          "model_name": "LayoutModel",
          "state": {
            "_view_name": "LayoutView",
            "grid_template_rows": null,
            "right": null,
            "justify_content": null,
            "_view_module": "@jupyter-widgets/base",
            "overflow": null,
            "_model_module_version": "1.2.0",
            "_view_count": null,
            "flex_flow": null,
            "width": null,
            "min_width": null,
            "border": null,
            "align_items": null,
            "bottom": null,
            "_model_module": "@jupyter-widgets/base",
            "top": null,
            "grid_column": null,
            "overflow_y": null,
            "overflow_x": null,
            "grid_auto_flow": null,
            "grid_area": null,
            "grid_template_columns": null,
            "flex": null,
            "_model_name": "LayoutModel",
            "justify_items": null,
            "grid_row": null,
            "max_height": null,
            "align_content": null,
            "visibility": null,
            "align_self": null,
            "height": null,
            "min_height": null,
            "padding": null,
            "grid_auto_rows": null,
            "grid_gap": null,
            "max_width": null,
            "order": null,
            "_view_module_version": "1.2.0",
            "grid_template_areas": null,
            "object_position": null,
            "object_fit": null,
            "grid_auto_columns": null,
            "margin": null,
            "display": null,
            "left": null
          }
        },
        "14efa3adc03d4ba6a004d8f5eec490fd": {
          "model_module": "@jupyter-widgets/controls",
          "model_name": "DescriptionStyleModel",
          "state": {
            "_view_name": "StyleView",
            "_model_name": "DescriptionStyleModel",
            "description_width": "",
            "_view_module": "@jupyter-widgets/base",
            "_model_module_version": "1.5.0",
            "_view_count": null,
            "_view_module_version": "1.2.0",
            "_model_module": "@jupyter-widgets/controls"
          }
        },
        "73e81043f429464992a07719e337e5e8": {
          "model_module": "@jupyter-widgets/base",
          "model_name": "LayoutModel",
          "state": {
            "_view_name": "LayoutView",
            "grid_template_rows": null,
            "right": null,
            "justify_content": null,
            "_view_module": "@jupyter-widgets/base",
            "overflow": null,
            "_model_module_version": "1.2.0",
            "_view_count": null,
            "flex_flow": null,
            "width": null,
            "min_width": null,
            "border": null,
            "align_items": null,
            "bottom": null,
            "_model_module": "@jupyter-widgets/base",
            "top": null,
            "grid_column": null,
            "overflow_y": null,
            "overflow_x": null,
            "grid_auto_flow": null,
            "grid_area": null,
            "grid_template_columns": null,
            "flex": null,
            "_model_name": "LayoutModel",
            "justify_items": null,
            "grid_row": null,
            "max_height": null,
            "align_content": null,
            "visibility": null,
            "align_self": null,
            "height": null,
            "min_height": null,
            "padding": null,
            "grid_auto_rows": null,
            "grid_gap": null,
            "max_width": null,
            "order": null,
            "_view_module_version": "1.2.0",
            "grid_template_areas": null,
            "object_position": null,
            "object_fit": null,
            "grid_auto_columns": null,
            "margin": null,
            "display": null,
            "left": null
          }
        },
        "fbb020092ff54501a09f58f47b94d532": {
          "model_module": "@jupyter-widgets/controls",
          "model_name": "HBoxModel",
          "state": {
            "_view_name": "HBoxView",
            "_dom_classes": [],
            "_model_name": "HBoxModel",
            "_view_module": "@jupyter-widgets/controls",
            "_model_module_version": "1.5.0",
            "_view_count": null,
            "_view_module_version": "1.5.0",
            "box_style": "",
            "layout": "IPY_MODEL_23160ef7e037459cb6246f38f48053e2",
            "_model_module": "@jupyter-widgets/controls",
            "children": [
              "IPY_MODEL_bb3ecc923261447e9a9409bc70cf12c1",
              "IPY_MODEL_75eb005ef4e243078893b0a2ff826099"
            ]
          }
        },
        "23160ef7e037459cb6246f38f48053e2": {
          "model_module": "@jupyter-widgets/base",
          "model_name": "LayoutModel",
          "state": {
            "_view_name": "LayoutView",
            "grid_template_rows": null,
            "right": null,
            "justify_content": null,
            "_view_module": "@jupyter-widgets/base",
            "overflow": null,
            "_model_module_version": "1.2.0",
            "_view_count": null,
            "flex_flow": null,
            "width": null,
            "min_width": null,
            "border": null,
            "align_items": null,
            "bottom": null,
            "_model_module": "@jupyter-widgets/base",
            "top": null,
            "grid_column": null,
            "overflow_y": null,
            "overflow_x": null,
            "grid_auto_flow": null,
            "grid_area": null,
            "grid_template_columns": null,
            "flex": null,
            "_model_name": "LayoutModel",
            "justify_items": null,
            "grid_row": null,
            "max_height": null,
            "align_content": null,
            "visibility": null,
            "align_self": null,
            "height": null,
            "min_height": null,
            "padding": null,
            "grid_auto_rows": null,
            "grid_gap": null,
            "max_width": null,
            "order": null,
            "_view_module_version": "1.2.0",
            "grid_template_areas": null,
            "object_position": null,
            "object_fit": null,
            "grid_auto_columns": null,
            "margin": null,
            "display": null,
            "left": null
          }
        },
        "bb3ecc923261447e9a9409bc70cf12c1": {
          "model_module": "@jupyter-widgets/controls",
          "model_name": "FloatProgressModel",
          "state": {
            "_view_name": "ProgressView",
            "style": "IPY_MODEL_cfae82cdf32744c79e856ef33998d1ad",
            "_dom_classes": [],
            "description": "",
            "_model_name": "FloatProgressModel",
            "bar_style": "success",
            "max": 1,
            "_view_module": "@jupyter-widgets/controls",
            "_model_module_version": "1.5.0",
            "value": 1,
            "_view_count": null,
            "_view_module_version": "1.5.0",
            "orientation": "horizontal",
            "min": 0,
            "description_tooltip": null,
            "_model_module": "@jupyter-widgets/controls",
            "layout": "IPY_MODEL_c898777124e14651b51d836728600164"
          }
        },
        "75eb005ef4e243078893b0a2ff826099": {
          "model_module": "@jupyter-widgets/controls",
          "model_name": "HTMLModel",
          "state": {
            "_view_name": "HTMLView",
            "style": "IPY_MODEL_2efa90cb54cb48b09887c991f07f3af6",
            "_dom_classes": [],
            "description": "",
            "_model_name": "HTMLModel",
            "placeholder": "​",
            "_view_module": "@jupyter-widgets/controls",
            "_model_module_version": "1.5.0",
            "value": " 1654784/? [00:07&lt;00:00, 229446.67it/s]",
            "_view_count": null,
            "_view_module_version": "1.5.0",
            "description_tooltip": null,
            "_model_module": "@jupyter-widgets/controls",
            "layout": "IPY_MODEL_754022b0ad7a434c9df7ce5404aaaf3f"
          }
        },
        "cfae82cdf32744c79e856ef33998d1ad": {
          "model_module": "@jupyter-widgets/controls",
          "model_name": "ProgressStyleModel",
          "state": {
            "_view_name": "StyleView",
            "_model_name": "ProgressStyleModel",
            "description_width": "initial",
            "_view_module": "@jupyter-widgets/base",
            "_model_module_version": "1.5.0",
            "_view_count": null,
            "_view_module_version": "1.2.0",
            "bar_color": null,
            "_model_module": "@jupyter-widgets/controls"
          }
        },
        "c898777124e14651b51d836728600164": {
          "model_module": "@jupyter-widgets/base",
          "model_name": "LayoutModel",
          "state": {
            "_view_name": "LayoutView",
            "grid_template_rows": null,
            "right": null,
            "justify_content": null,
            "_view_module": "@jupyter-widgets/base",
            "overflow": null,
            "_model_module_version": "1.2.0",
            "_view_count": null,
            "flex_flow": null,
            "width": null,
            "min_width": null,
            "border": null,
            "align_items": null,
            "bottom": null,
            "_model_module": "@jupyter-widgets/base",
            "top": null,
            "grid_column": null,
            "overflow_y": null,
            "overflow_x": null,
            "grid_auto_flow": null,
            "grid_area": null,
            "grid_template_columns": null,
            "flex": null,
            "_model_name": "LayoutModel",
            "justify_items": null,
            "grid_row": null,
            "max_height": null,
            "align_content": null,
            "visibility": null,
            "align_self": null,
            "height": null,
            "min_height": null,
            "padding": null,
            "grid_auto_rows": null,
            "grid_gap": null,
            "max_width": null,
            "order": null,
            "_view_module_version": "1.2.0",
            "grid_template_areas": null,
            "object_position": null,
            "object_fit": null,
            "grid_auto_columns": null,
            "margin": null,
            "display": null,
            "left": null
          }
        },
        "2efa90cb54cb48b09887c991f07f3af6": {
          "model_module": "@jupyter-widgets/controls",
          "model_name": "DescriptionStyleModel",
          "state": {
            "_view_name": "StyleView",
            "_model_name": "DescriptionStyleModel",
            "description_width": "",
            "_view_module": "@jupyter-widgets/base",
            "_model_module_version": "1.5.0",
            "_view_count": null,
            "_view_module_version": "1.2.0",
            "_model_module": "@jupyter-widgets/controls"
          }
        },
        "754022b0ad7a434c9df7ce5404aaaf3f": {
          "model_module": "@jupyter-widgets/base",
          "model_name": "LayoutModel",
          "state": {
            "_view_name": "LayoutView",
            "grid_template_rows": null,
            "right": null,
            "justify_content": null,
            "_view_module": "@jupyter-widgets/base",
            "overflow": null,
            "_model_module_version": "1.2.0",
            "_view_count": null,
            "flex_flow": null,
            "width": null,
            "min_width": null,
            "border": null,
            "align_items": null,
            "bottom": null,
            "_model_module": "@jupyter-widgets/base",
            "top": null,
            "grid_column": null,
            "overflow_y": null,
            "overflow_x": null,
            "grid_auto_flow": null,
            "grid_area": null,
            "grid_template_columns": null,
            "flex": null,
            "_model_name": "LayoutModel",
            "justify_items": null,
            "grid_row": null,
            "max_height": null,
            "align_content": null,
            "visibility": null,
            "align_self": null,
            "height": null,
            "min_height": null,
            "padding": null,
            "grid_auto_rows": null,
            "grid_gap": null,
            "max_width": null,
            "order": null,
            "_view_module_version": "1.2.0",
            "grid_template_areas": null,
            "object_position": null,
            "object_fit": null,
            "grid_auto_columns": null,
            "margin": null,
            "display": null,
            "left": null
          }
        },
        "a71991737bfd403e80af0ec7149295fd": {
          "model_module": "@jupyter-widgets/controls",
          "model_name": "HBoxModel",
          "state": {
            "_view_name": "HBoxView",
            "_dom_classes": [],
            "_model_name": "HBoxModel",
            "_view_module": "@jupyter-widgets/controls",
            "_model_module_version": "1.5.0",
            "_view_count": null,
            "_view_module_version": "1.5.0",
            "box_style": "",
            "layout": "IPY_MODEL_2013d1a5d676443591cffebbfdc29350",
            "_model_module": "@jupyter-widgets/controls",
            "children": [
              "IPY_MODEL_96093fea1771426da47b120cca2f615c",
              "IPY_MODEL_fb3950b1106e4fe081bc5c23c8d89fc6"
            ]
          }
        },
        "2013d1a5d676443591cffebbfdc29350": {
          "model_module": "@jupyter-widgets/base",
          "model_name": "LayoutModel",
          "state": {
            "_view_name": "LayoutView",
            "grid_template_rows": null,
            "right": null,
            "justify_content": null,
            "_view_module": "@jupyter-widgets/base",
            "overflow": null,
            "_model_module_version": "1.2.0",
            "_view_count": null,
            "flex_flow": null,
            "width": null,
            "min_width": null,
            "border": null,
            "align_items": null,
            "bottom": null,
            "_model_module": "@jupyter-widgets/base",
            "top": null,
            "grid_column": null,
            "overflow_y": null,
            "overflow_x": null,
            "grid_auto_flow": null,
            "grid_area": null,
            "grid_template_columns": null,
            "flex": null,
            "_model_name": "LayoutModel",
            "justify_items": null,
            "grid_row": null,
            "max_height": null,
            "align_content": null,
            "visibility": null,
            "align_self": null,
            "height": null,
            "min_height": null,
            "padding": null,
            "grid_auto_rows": null,
            "grid_gap": null,
            "max_width": null,
            "order": null,
            "_view_module_version": "1.2.0",
            "grid_template_areas": null,
            "object_position": null,
            "object_fit": null,
            "grid_auto_columns": null,
            "margin": null,
            "display": null,
            "left": null
          }
        },
        "96093fea1771426da47b120cca2f615c": {
          "model_module": "@jupyter-widgets/controls",
          "model_name": "FloatProgressModel",
          "state": {
            "_view_name": "ProgressView",
            "style": "IPY_MODEL_60f1456bbd1f498f81f2ff90c3a2d74b",
            "_dom_classes": [],
            "description": "",
            "_model_name": "FloatProgressModel",
            "bar_style": "success",
            "max": 1,
            "_view_module": "@jupyter-widgets/controls",
            "_model_module_version": "1.5.0",
            "value": 1,
            "_view_count": null,
            "_view_module_version": "1.5.0",
            "orientation": "horizontal",
            "min": 0,
            "description_tooltip": null,
            "_model_module": "@jupyter-widgets/controls",
            "layout": "IPY_MODEL_07afaa44b89b4a6d98abb63e8ae97831"
          }
        },
        "fb3950b1106e4fe081bc5c23c8d89fc6": {
          "model_module": "@jupyter-widgets/controls",
          "model_name": "HTMLModel",
          "state": {
            "_view_name": "HTMLView",
            "style": "IPY_MODEL_dcfe6e87c7a548a697049d9b010a851b",
            "_dom_classes": [],
            "description": "",
            "_model_name": "HTMLModel",
            "placeholder": "​",
            "_view_module": "@jupyter-widgets/controls",
            "_model_module_version": "1.5.0",
            "value": " 8192/? [00:06&lt;00:00, 1282.02it/s]",
            "_view_count": null,
            "_view_module_version": "1.5.0",
            "description_tooltip": null,
            "_model_module": "@jupyter-widgets/controls",
            "layout": "IPY_MODEL_31321e203c1a4443b4d24e95bad22864"
          }
        },
        "60f1456bbd1f498f81f2ff90c3a2d74b": {
          "model_module": "@jupyter-widgets/controls",
          "model_name": "ProgressStyleModel",
          "state": {
            "_view_name": "StyleView",
            "_model_name": "ProgressStyleModel",
            "description_width": "initial",
            "_view_module": "@jupyter-widgets/base",
            "_model_module_version": "1.5.0",
            "_view_count": null,
            "_view_module_version": "1.2.0",
            "bar_color": null,
            "_model_module": "@jupyter-widgets/controls"
          }
        },
        "07afaa44b89b4a6d98abb63e8ae97831": {
          "model_module": "@jupyter-widgets/base",
          "model_name": "LayoutModel",
          "state": {
            "_view_name": "LayoutView",
            "grid_template_rows": null,
            "right": null,
            "justify_content": null,
            "_view_module": "@jupyter-widgets/base",
            "overflow": null,
            "_model_module_version": "1.2.0",
            "_view_count": null,
            "flex_flow": null,
            "width": null,
            "min_width": null,
            "border": null,
            "align_items": null,
            "bottom": null,
            "_model_module": "@jupyter-widgets/base",
            "top": null,
            "grid_column": null,
            "overflow_y": null,
            "overflow_x": null,
            "grid_auto_flow": null,
            "grid_area": null,
            "grid_template_columns": null,
            "flex": null,
            "_model_name": "LayoutModel",
            "justify_items": null,
            "grid_row": null,
            "max_height": null,
            "align_content": null,
            "visibility": null,
            "align_self": null,
            "height": null,
            "min_height": null,
            "padding": null,
            "grid_auto_rows": null,
            "grid_gap": null,
            "max_width": null,
            "order": null,
            "_view_module_version": "1.2.0",
            "grid_template_areas": null,
            "object_position": null,
            "object_fit": null,
            "grid_auto_columns": null,
            "margin": null,
            "display": null,
            "left": null
          }
        },
        "dcfe6e87c7a548a697049d9b010a851b": {
          "model_module": "@jupyter-widgets/controls",
          "model_name": "DescriptionStyleModel",
          "state": {
            "_view_name": "StyleView",
            "_model_name": "DescriptionStyleModel",
            "description_width": "",
            "_view_module": "@jupyter-widgets/base",
            "_model_module_version": "1.5.0",
            "_view_count": null,
            "_view_module_version": "1.2.0",
            "_model_module": "@jupyter-widgets/controls"
          }
        },
        "31321e203c1a4443b4d24e95bad22864": {
          "model_module": "@jupyter-widgets/base",
          "model_name": "LayoutModel",
          "state": {
            "_view_name": "LayoutView",
            "grid_template_rows": null,
            "right": null,
            "justify_content": null,
            "_view_module": "@jupyter-widgets/base",
            "overflow": null,
            "_model_module_version": "1.2.0",
            "_view_count": null,
            "flex_flow": null,
            "width": null,
            "min_width": null,
            "border": null,
            "align_items": null,
            "bottom": null,
            "_model_module": "@jupyter-widgets/base",
            "top": null,
            "grid_column": null,
            "overflow_y": null,
            "overflow_x": null,
            "grid_auto_flow": null,
            "grid_area": null,
            "grid_template_columns": null,
            "flex": null,
            "_model_name": "LayoutModel",
            "justify_items": null,
            "grid_row": null,
            "max_height": null,
            "align_content": null,
            "visibility": null,
            "align_self": null,
            "height": null,
            "min_height": null,
            "padding": null,
            "grid_auto_rows": null,
            "grid_gap": null,
            "max_width": null,
            "order": null,
            "_view_module_version": "1.2.0",
            "grid_template_areas": null,
            "object_position": null,
            "object_fit": null,
            "grid_auto_columns": null,
            "margin": null,
            "display": null,
            "left": null
          }
        }
      }
    }
  },
  "cells": [
    {
      "cell_type": "markdown",
      "metadata": {
        "id": "view-in-github",
        "colab_type": "text"
      },
      "source": [
        "<a href=\"https://colab.research.google.com/github/EugenHotaj/nn-hallucinations/blob/master/__draft___gated_pixel_cnn.ipynb\" target=\"_parent\"><img src=\"https://colab.research.google.com/assets/colab-badge.svg\" alt=\"Open In Colab\"/></a>"
      ]
    },
    {
      "cell_type": "code",
      "metadata": {
        "id": "ij3tASXjtl0_",
        "colab_type": "code",
        "colab": {
          "base_uri": "https://localhost:8080/",
          "height": 153
        },
        "outputId": "eb4b710e-41f5-4224-d678-561348d0a185"
      },
      "source": [
        "!git clone https://www.github.com/EugenHotaj/nn-hallucinations nn_hallucinations"
      ],
      "execution_count": 1,
      "outputs": [
        {
          "output_type": "stream",
          "text": [
            "Cloning into 'nn_hallucinations'...\n",
            "warning: redirecting to https://github.com/EugenHotaj/nn-hallucinations.git/\n",
            "remote: Enumerating objects: 117, done.\u001b[K\n",
            "remote: Counting objects: 100% (117/117), done.\u001b[K\n",
            "remote: Compressing objects: 100% (106/106), done.\u001b[K\n",
            "remote: Total 117 (delta 61), reused 26 (delta 11), pack-reused 0\u001b[K\n",
            "Receiving objects: 100% (117/117), 13.49 MiB | 4.34 MiB/s, done.\n",
            "Resolving deltas: 100% (61/61), done.\n"
          ],
          "name": "stdout"
        }
      ]
    },
    {
      "cell_type": "code",
      "metadata": {
        "id": "fhbHjHAGuIQY",
        "colab_type": "code",
        "colab": {}
      },
      "source": [
        "import matplotlib.pyplot as plt\n",
        "from nn_hallucinations import colab_utils\n",
        "import numpy as np\n",
        "import torch\n",
        "from torch import distributions\n",
        "from torch import nn\n",
        "from torch import optim\n",
        "from torch.nn import functional as F\n",
        "from torch.utils import data\n",
        "from torchvision import transforms\n",
        "from torchvision import datasets"
      ],
      "execution_count": 2,
      "outputs": []
    },
    {
      "cell_type": "code",
      "metadata": {
        "id": "PKzRg91VuUTM",
        "colab_type": "code",
        "colab": {
          "base_uri": "https://localhost:8080/",
          "height": 352,
          "referenced_widgets": [
            "242d4d7e8e3548b08ec1e21c1b89c04d",
            "26371d5ffd594784928e6702fd04ca98",
            "9a7cf3826462449e9c09115c7547d38e",
            "5c68187505fd4a10923acaa86a495cdb",
            "ce679bf6da1543fe9d3a76b3f69c5303",
            "03b1f9b271b04b1b96adb1591ea22b33",
            "0975510e12b74e1eb506b90e5ca63f4c",
            "d7272701c8a44f4db53e51457f066c62",
            "ff140e2c8bc24a93b0d9ed35e532ca21",
            "8a9a5f1a5d4148a794ffb33e0a716374",
            "54b07cdb1e59445183318540c61e4f24",
            "4f5d431f655b4deca2616b31da3a1e39",
            "fcbfdb478fb94c498f15c93120529d2c",
            "bfdc143ee1d04c5e880fa9c93c2c2bd9",
            "14efa3adc03d4ba6a004d8f5eec490fd",
            "73e81043f429464992a07719e337e5e8",
            "fbb020092ff54501a09f58f47b94d532",
            "23160ef7e037459cb6246f38f48053e2",
            "bb3ecc923261447e9a9409bc70cf12c1",
            "75eb005ef4e243078893b0a2ff826099",
            "cfae82cdf32744c79e856ef33998d1ad",
            "c898777124e14651b51d836728600164",
            "2efa90cb54cb48b09887c991f07f3af6",
            "754022b0ad7a434c9df7ce5404aaaf3f",
            "a71991737bfd403e80af0ec7149295fd",
            "2013d1a5d676443591cffebbfdc29350",
            "96093fea1771426da47b120cca2f615c",
            "fb3950b1106e4fe081bc5c23c8d89fc6",
            "60f1456bbd1f498f81f2ff90c3a2d74b",
            "07afaa44b89b4a6d98abb63e8ae97831",
            "dcfe6e87c7a548a697049d9b010a851b",
            "31321e203c1a4443b4d24e95bad22864"
          ]
        },
        "outputId": "737e388e-82ac-4948-891d-093128d2c929"
      },
      "source": [
        "BATCH_SIZE = 32\n",
        "TRANSFORM = transforms.Compose([\n",
        "    transforms.ToTensor(),\n",
        "    lambda x: distributions.Bernoulli(probs=x).sample()])\n",
        "\n",
        "train_loader = data.DataLoader(\n",
        "    datasets.MNIST('../data', train=True, download=True, transform=TRANSFORM),\n",
        "    batch_size=BATCH_SIZE, \n",
        "    shuffle=True)\n",
        "test_loader = data.DataLoader(\n",
        "    datasets.MNIST('../data', train=False, download=True,transform=TRANSFORM),\n",
        "    batch_size=BATCH_SIZE*2)"
      ],
      "execution_count": 3,
      "outputs": [
        {
          "output_type": "stream",
          "text": [
            "Downloading http://yann.lecun.com/exdb/mnist/train-images-idx3-ubyte.gz to ../data/MNIST/raw/train-images-idx3-ubyte.gz\n"
          ],
          "name": "stdout"
        },
        {
          "output_type": "display_data",
          "data": {
            "application/vnd.jupyter.widget-view+json": {
              "model_id": "242d4d7e8e3548b08ec1e21c1b89c04d",
              "version_minor": 0,
              "version_major": 2
            },
            "text/plain": [
              "HBox(children=(FloatProgress(value=1.0, bar_style='info', max=1.0), HTML(value='')))"
            ]
          },
          "metadata": {
            "tags": []
          }
        },
        {
          "output_type": "stream",
          "text": [
            "Extracting ../data/MNIST/raw/train-images-idx3-ubyte.gz to ../data/MNIST/raw\n",
            "Downloading http://yann.lecun.com/exdb/mnist/train-labels-idx1-ubyte.gz to ../data/MNIST/raw/train-labels-idx1-ubyte.gz\n"
          ],
          "name": "stdout"
        },
        {
          "output_type": "display_data",
          "data": {
            "application/vnd.jupyter.widget-view+json": {
              "model_id": "ff140e2c8bc24a93b0d9ed35e532ca21",
              "version_minor": 0,
              "version_major": 2
            },
            "text/plain": [
              "HBox(children=(FloatProgress(value=1.0, bar_style='info', max=1.0), HTML(value='')))"
            ]
          },
          "metadata": {
            "tags": []
          }
        },
        {
          "output_type": "stream",
          "text": [
            "Extracting ../data/MNIST/raw/train-labels-idx1-ubyte.gz to ../data/MNIST/raw\n",
            "Downloading http://yann.lecun.com/exdb/mnist/t10k-images-idx3-ubyte.gz to ../data/MNIST/raw/t10k-images-idx3-ubyte.gz\n"
          ],
          "name": "stdout"
        },
        {
          "output_type": "display_data",
          "data": {
            "application/vnd.jupyter.widget-view+json": {
              "model_id": "fbb020092ff54501a09f58f47b94d532",
              "version_minor": 0,
              "version_major": 2
            },
            "text/plain": [
              "HBox(children=(FloatProgress(value=1.0, bar_style='info', max=1.0), HTML(value='')))"
            ]
          },
          "metadata": {
            "tags": []
          }
        },
        {
          "output_type": "stream",
          "text": [
            "Extracting ../data/MNIST/raw/t10k-images-idx3-ubyte.gz to ../data/MNIST/raw\n",
            "Downloading http://yann.lecun.com/exdb/mnist/t10k-labels-idx1-ubyte.gz to ../data/MNIST/raw/t10k-labels-idx1-ubyte.gz\n"
          ],
          "name": "stdout"
        },
        {
          "output_type": "display_data",
          "data": {
            "application/vnd.jupyter.widget-view+json": {
              "model_id": "a71991737bfd403e80af0ec7149295fd",
              "version_minor": 0,
              "version_major": 2
            },
            "text/plain": [
              "HBox(children=(FloatProgress(value=1.0, bar_style='info', max=1.0), HTML(value='')))"
            ]
          },
          "metadata": {
            "tags": []
          }
        },
        {
          "output_type": "stream",
          "text": [
            "Extracting ../data/MNIST/raw/t10k-labels-idx1-ubyte.gz to ../data/MNIST/raw\n",
            "Processing...\n",
            "Done!\n"
          ],
          "name": "stdout"
        },
        {
          "output_type": "stream",
          "text": [
            "/pytorch/torch/csrc/utils/tensor_numpy.cpp:141: UserWarning: The given NumPy array is not writeable, and PyTorch does not support non-writeable tensors. This means you can write to the underlying (supposedly non-writeable) NumPy array using the tensor. You may want to copy the array to protect its data or make it writeable before converting it to a tensor. This type of warning will be suppressed for the rest of this program.\n"
          ],
          "name": "stderr"
        }
      ]
    },
    {
      "cell_type": "code",
      "metadata": {
        "id": "aLCatRxBJIBJ",
        "colab_type": "code",
        "colab": {}
      },
      "source": [
        "# TODO(eugenhotaj): We should rethink the Masked layers. It might make sense to \n",
        "# just have a generic MaskedConv2d layer which takes in whatever kind of mask \n",
        "# in the __init__. We can then have different functions which generate masks \n",
        "# from specific papers.\n",
        "\n",
        "class MaskedConv2d(nn.Conv2d):\n",
        "\n",
        "  EXCLUDE_SELF = 0\n",
        "  INCLUDE_SELF = 1\n",
        "\n",
        "  def __init__(self, mask_type, *args, **kwargs):\n",
        "    super().__init__(*args, **kwargs)\n",
        "\n",
        "    i, o, h, w = self.weight.shape\n",
        "    # TODO(eugenhotaj): Will this masking logic work correctly for even kernel \n",
        "    # sizes? If not, maybe we should raise an exception instead.\n",
        "    mask = torch.zeros((i, o, h, w))\n",
        "    mask.data[:, :, :h//2, :] = 1\n",
        "    mask.data[:, :, h//2, :w//2 + mask_type] = 1\n",
        "    self.register_buffer('mask', mask)\n",
        "\n",
        "  def forward(self, x):\n",
        "    self.weight.data *= self.mask\n",
        "    return super().forward(x)\n",
        "\n",
        "class MaskedVerticalConv2d(nn.Conv2d):\n",
        "\n",
        "  def __init__(self, *args, **kwargs):\n",
        "    super().__init__(*args, **kwargs)\n",
        "    i, o, h, w = self.weight.shape\n",
        "    mask = torch.zeros(i, o, h, w)\n",
        "    mask[:, :, :h//2 + 1, :] = 1\n",
        "    self.register_buffer('mask', mask)\n",
        "\n",
        "  def forward(self, x):\n",
        "    self.weight.data *= self.mask\n",
        "    return super().forward(x)\n",
        "\n",
        "class MaskedHorizontalConv2d(nn.Conv2d):\n",
        "\n",
        "  def __init__(self, *args, **kwargs):\n",
        "    super().__init__(*args, **kwargs)\n",
        "    i, o, h, w = self.weight.shape\n",
        "    mask = torch.zeros(i, o, h, w)\n",
        "    mask[:, :, :, :w//2 + 1] = 1\n",
        "    self.register_buffer('mask', mask)\n",
        "\n",
        "  def forward(self, x):\n",
        "    self.weight.data *= self.mask\n",
        "    return super().forward(x)\n",
        "\n",
        "\n",
        "class GatedPixelCNNLayer(nn.Module):\n",
        "\n",
        "  def __init__(self, channels, kernel_size=3):\n",
        "    super().__init__()\n",
        "    self._channels = channels\n",
        "    self._kernel_size = kernel_size\n",
        "    self._padding = (kernel_size - 1)//2 # padding = (kernel_size - stride) / 2 \n",
        "\n",
        "    self._vertical_stack = nn.Sequential(\n",
        "        nn.Conv2d(\n",
        "            in_channels=self._channels, out_channels=self._channels,\n",
        "            kernel_size=(1, self._kernel_size), padding=(0, self._padding)),\n",
        "        MaskedVerticalConv2d(\n",
        "            in_channels=self._channels, out_channels=2*self._channels, \n",
        "            kernel_size=(self._kernel_size, 1), padding=(self._padding, 0)))\n",
        "    self._horizontal_stack = MaskedHorizontalConv2d(\n",
        "        in_channels=self._channels, out_channels=2*self._channels, \n",
        "        kernel_size=(1, self._kernel_size), padding=(0, self._padding))\n",
        "\n",
        "  def _shift_up(self, tensor):\n",
        "    # TODO(eugenhotaj): Should we copy the tensor here before shifting?\n",
        "    tensor = torch.roll(tensor, self._kernel_size - 1, dims=2) # Assuming NCHW\n",
        "    tensor[:, :, self._kernel_size//2 + 1:, :] = 0\n",
        "    return tensor\n",
        "\n",
        "  def forward(self, vstack, hstack):\n",
        "    # Compute the vertical stack. \n",
        "    vstack = self._vertical_stack(vstack)\n",
        "    vtanh, vsigmoid = torch.split(vstack, self._channels, dim=1) # Assuming NCHW \n",
        "    new_vstack = torch.tanh(vtanh) * torch.sigmoid(vsigmoid)\n",
        "\n",
        "    # Compute the horizontal stack.\n",
        "    hstack_ = self._shift_up(vstack) + self._horizontal_stack(hstack)\n",
        "    htanh, hsigmoid = torch.split(hstack_, self._channels, dim=1) # Assuming NHCW\n",
        "    new_hstack = (torch.tanh(htanh) * torch.sigmoid(hsigmoid)) + hstack\n",
        "\n",
        "    return new_vstack, new_hstack"
      ],
      "execution_count": 55,
      "outputs": []
    },
    {
      "cell_type": "code",
      "metadata": {
        "id": "_D4npkBMTFwF",
        "colab_type": "code",
        "colab": {}
      },
      "source": [
        "class GatedPixelCNN(nn.Module):\n",
        "\n",
        "  def __init__(self, \n",
        "               in_channels, \n",
        "               hidden_channels=16,\n",
        "               head_channels=32,\n",
        "               n_gated=4):\n",
        "    \"\"\"TODO\"\"\"\n",
        "\n",
        "    super().__init__()\n",
        "\n",
        "    self._input =  MaskedConv2d(mask_type=MaskedConv2d.EXCLUDE_SELF,\n",
        "                                in_channels=in_channels,\n",
        "                                out_channels=hidden_channels,\n",
        "                                kernel_size=7,\n",
        "                                padding=3)\n",
        "    self._gated_layers = nn.ModuleList([\n",
        "        GatedPixelCNNLayer(channels=hidden_channels) for _ in range(n_gated)])\n",
        "    self._head = nn.Sequential(\n",
        "        nn.ReLU(),\n",
        "        nn.Conv2d(in_channels=hidden_channels, \n",
        "                  out_channels=head_channels, \n",
        "                  kernel_size=1),\n",
        "        nn.ReLU(),\n",
        "        nn.Conv2d(in_channels=head_channels, \n",
        "                  out_channels=in_channels,\n",
        "                  kernel_size=1),\n",
        "        nn.Sigmoid())\n",
        "\n",
        "  def forward(self, x):\n",
        "    x = self._input(x)\n",
        "    vstack, hstack = x, x\n",
        "    skip_connections = torch.zeros_like(x)\n",
        "    for gated_layer in self._gated_layers:\n",
        "      vstack, hstack = gated_layer(vstack, hstack)\n",
        "      skip_connections += hstack\n",
        "    return self._head(skip_connections)\n",
        "\n",
        "\n",
        "  def sample(self):\n",
        "    \"\"\"Samples a new image.\n",
        "    \n",
        "    Args:\n",
        "      conditioned_on: An (optional) image to condition samples on. Only \n",
        "        dimensions with values < 0 will be sampled. For example, if \n",
        "        conditioned_on[i] = -1, then output[i] will be sampled conditioned on\n",
        "        dimensions j < i. If 'None', an unconditional sample will be generated.\n",
        "    \"\"\"\n",
        "    with torch.no_grad():\n",
        "      device = next(self.parameters()).device\n",
        "      conditioned_on = (torch.ones((1, 1,  28, 28)) * - 1).to(device)\n",
        "\n",
        "      for channel in range(1):\n",
        "        for row in range(28):\n",
        "          for column in range(28):\n",
        "            out = self.forward(conditioned_on)[:, channel, row, column]\n",
        "            out = distributions.Bernoulli(probs=out).sample()\n",
        "            conditioned_on[:, channel, row, column] = torch.where(\n",
        "                conditioned_on[:, channel, row, column] < 0,\n",
        "                out, \n",
        "                conditioned_on[:, channel, row, column])\n",
        "      return conditioned_on"
      ],
      "execution_count": 56,
      "outputs": []
    },
    {
      "cell_type": "code",
      "metadata": {
        "id": "p9DI91SY4Cg5",
        "colab_type": "code",
        "colab": {
          "base_uri": "https://localhost:8080/",
          "height": 119
        },
        "outputId": "c22e04aa-d9e6-40f3-9ee3-c0bcb4d1bab6"
      },
      "source": [
        "IN_CHANNELS = 1\n",
        "HIDDEN_CHANNELS = 16\n",
        "HEAD_CHANNELS = 32\n",
        "N_GATED = 12\n",
        "\n",
        "N_EPOCHS = 50\n",
        "\n",
        "torch.cuda.empty_cache()\n",
        "model = GatedPixelCNN(IN_CHANNELS, \n",
        "                 HIDDEN_CHANNELS, \n",
        "                 HEAD_CHANNELS, \n",
        "                 N_GATED).to(colab_utils.get_device())\n",
        "optimizer = optim.Adam(model.parameters())\n",
        "bce_loss_fn = nn.BCELoss(reduction='none')\n",
        "\n",
        "def loss_fn(x, _, preds):\n",
        "  batch_size = x.shape[0]\n",
        "  x, preds = x.view((batch_size, -1)), preds.view((batch_size, -1))\n",
        "  return bce_loss_fn(preds, x).sum(dim=1).mean()\n",
        "\n",
        "train_losses, eval_losses = colab_utils.train_andor_evaluate(\n",
        "    model, \n",
        "    loss_fn, \n",
        "    optimizer=optimizer, \n",
        "    n_epochs=N_EPOCHS, \n",
        "    train_loader=train_loader,\n",
        "    eval_loader=test_loader,\n",
        "    device=colab_utils.get_device())"
      ],
      "execution_count": null,
      "outputs": [
        {
          "output_type": "stream",
          "text": [
            "[1|506]: train_loss=106.20682958984375 eval_loss=98.16675874023437\n",
            "[2|506]: train_loss=97.92010666910808 eval_loss=97.39951292724609\n",
            "[3|507]: train_loss=97.12032529703777 eval_loss=96.39649327392578\n",
            "[4|505]: train_loss=96.76806313476563 eval_loss=96.11171619873046\n",
            "[5|506]: train_loss=96.44096451822917 eval_loss=95.79934956054687\n",
            "[6|506]: train_loss=96.15460087890625 eval_loss=95.81229836425781\n"
          ],
          "name": "stdout"
        }
      ]
    },
    {
      "cell_type": "code",
      "metadata": {
        "id": "9gjXKprXr4VA",
        "colab_type": "code",
        "colab": {
          "base_uri": "https://localhost:8080/",
          "height": 497
        },
        "outputId": "2ac454c4-7d46-407b-98e9-ad7521a20eb1"
      },
      "source": [
        "epochs = len(train_losses)\n",
        "plt.figure(figsize=(8, 8))\n",
        "plt.plot(range(epochs), train_losses)\n",
        "plt.plot(range(epochs), eval_losses)\n",
        "plt.legend(['train', 'test'])\n",
        "plt.xlabel('epoch')\n",
        "plt.ylabel('loss')\n",
        "plt.show()"
      ],
      "execution_count": null,
      "outputs": [
        {
          "output_type": "display_data",
          "data": {
            "image/png": "[encoded data removed]",
            "text/plain": [
              "<Figure size 576x576 with 1 Axes>"
            ]
          },
          "metadata": {
            "tags": [],
            "needs_background": "light"
          }
        }
      ]
    },
    {
      "cell_type": "code",
      "metadata": {
        "id": "h5lS_Mgj4LSk",
        "colab_type": "code",
        "colab": {}
      },
      "source": [
        "def show_random(model, dataset):\n",
        "  idx = np.random.choice(len(dataset))\n",
        "  img = dataset[idx][0].unsqueeze(0).to(colab_utils.get_device())\n",
        "  img_hat = model(img)\n",
        "  colab_utils.imshow(img.reshape(28, 28))\n",
        "  colab_utils.imshow(img_hat.reshape(28, 28))\n",
        "\n",
        "\n",
        "def sample(model):\n",
        "  colab_utils.imshow(model.sample().reshape(28, 28))\n",
        "\n",
        "\n",
        "def conditional_sample_random(model, dataset):\n",
        "  idx = np.random.choice(len(dataset))\n",
        "  img = dataset[idx][0].reshape(1, -1).to(colab_utils.get_device())\n",
        "  img[0, 300:600] = -1\n",
        "  colab_utils.imshow(img.reshape(28, 28))\n",
        "  plt.show()\n",
        "  print(\"Conditional Samples:\")\n",
        "  for i in range(5):\n",
        "    img_hat = model.sample(img)\n",
        "    colab_utils.imshow(img_hat.reshape(28, 28))"
      ],
      "execution_count": null,
      "outputs": []
    },
    {
      "cell_type": "code",
      "metadata": {
        "id": "bZZZOkGQ4gBZ",
        "colab_type": "code",
        "colab": {
          "base_uri": "https://localhost:8080/",
          "height": 479
        },
        "outputId": "a15cefaa-332c-474a-d08a-36e840ce2b92"
      },
      "source": [
        "show_random(model, test_loader.dataset)"
      ],
      "execution_count": null,
      "outputs": [
        {
          "output_type": "display_data",
          "data": {
            "image/png": "[encoded data removed]",
            "text/plain": [
              "<Figure size 432x288 with 1 Axes>"
            ]
          },
          "metadata": {
            "tags": [],
            "needs_background": "light"
          }
        },
        {
          "output_type": "display_data",
          "data": {
            "image/png": "[encoded data removed]",
            "text/plain": [
              "<Figure size 432x288 with 1 Axes>"
            ]
          },
          "metadata": {
            "tags": [],
            "needs_background": "light"
          }
        }
      ]
    },
    {
      "cell_type": "code",
      "metadata": {
        "id": "K4_D09Pd63dt",
        "colab_type": "code",
        "colab": {
          "base_uri": "https://localhost:8080/",
          "height": 34
        },
        "outputId": "e4af3276-51b9-4098-9607-287a26a19482"
      },
      "source": [
        "model_weights = model.state_dict()\n",
        "model = PixelCNN(IN_CHANNELS, HIDDEN_CHANNELS, HEAD_CHANNELS).to(\n",
        "    colab_utils.get_device())\n",
        "model.load_state_dict(model_weights)"
      ],
      "execution_count": null,
      "outputs": [
        {
          "output_type": "execute_result",
          "data": {
            "text/plain": [
              "<All keys matched successfully>"
            ]
          },
          "metadata": {
            "tags": []
          },
          "execution_count": 34
        }
      ]
    },
    {
      "cell_type": "code",
      "metadata": {
        "id": "PEn_aUj_576j",
        "colab_type": "code",
        "colab": {}
      },
      "source": [
        "sample(model)"
      ],
      "execution_count": null,
      "outputs": []
    }
  ]
}