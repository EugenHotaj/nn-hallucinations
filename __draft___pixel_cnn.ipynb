{
  "nbformat": 4,
  "nbformat_minor": 0,
  "metadata": {
    "colab": {
      "name": "__draft___pixel_cnn.ipynb",
      "provenance": [],
      "collapsed_sections": [],
      "authorship_tag": "ABX9TyOO0Z+Lz2ElF2PHWRC983fM",
      "include_colab_link": true
    },
    "kernelspec": {
      "name": "python3",
      "display_name": "Python 3"
    },
    "accelerator": "GPU"
  },
  "cells": [
    {
      "cell_type": "markdown",
      "metadata": {
        "id": "view-in-github",
        "colab_type": "text"
      },
      "source": [
        "<a href=\"https://colab.research.google.com/github/EugenHotaj/nn-hallucinations/blob/master/__draft___pixel_cnn.ipynb\" target=\"_parent\"><img src=\"https://colab.research.google.com/assets/colab-badge.svg\" alt=\"Open In Colab\"/></a>"
      ]
    },
    {
      "cell_type": "code",
      "metadata": {
        "id": "ij3tASXjtl0_",
        "colab_type": "code",
        "colab": {
          "base_uri": "https://localhost:8080/",
          "height": 34
        },
        "outputId": "217c61c7-b353-4340-e51b-93a017f7a7ac"
      },
      "source": [
        "!git clone https://www.github.com/EugenHotaj/nn-hallucinations nn_hallucinations"
      ],
      "execution_count": 32,
      "outputs": [
        {
          "output_type": "stream",
          "text": [
            "fatal: destination path 'nn_hallucinations' already exists and is not an empty directory.\n"
          ],
          "name": "stdout"
        }
      ]
    },
    {
      "cell_type": "code",
      "metadata": {
        "id": "fhbHjHAGuIQY",
        "colab_type": "code",
        "colab": {}
      },
      "source": [
        "import matplotlib.pyplot as plt\n",
        "from nn_hallucinations import colab_utils\n",
        "import numpy as np\n",
        "import torch\n",
        "from torch import distributions\n",
        "from torch import nn\n",
        "from torch import optim\n",
        "from torch.nn import functional as F\n",
        "from torch.utils import data\n",
        "from torchvision import transforms\n",
        "from torchvision import datasets"
      ],
      "execution_count": 33,
      "outputs": []
    },
    {
      "cell_type": "code",
      "metadata": {
        "id": "PKzRg91VuUTM",
        "colab_type": "code",
        "colab": {}
      },
      "source": [
        "BATCH_SIZE = 32\n",
        "TRANSFORM = transforms.Compose([\n",
        "    transforms.ToTensor(),\n",
        "    lambda x: distributions.Bernoulli(probs=x).sample()])\n",
        "\n",
        "train_loader = data.DataLoader(\n",
        "    datasets.MNIST('../data', train=True, download=True, transform=TRANSFORM),\n",
        "    batch_size=BATCH_SIZE, \n",
        "    shuffle=True)\n",
        "test_loader = data.DataLoader(\n",
        "    datasets.MNIST('../data', train=False, download=True,transform=TRANSFORM),\n",
        "    batch_size=BATCH_SIZE*2)"
      ],
      "execution_count": 35,
      "outputs": []
    },
    {
      "cell_type": "code",
      "metadata": {
        "id": "rqgcGxJOuYCJ",
        "colab_type": "code",
        "colab": {}
      },
      "source": [
        "class MaskedConv2d(nn.Conv2d):\n",
        "\n",
        "  EXCLUDE_SELF = 0\n",
        "  INCLUDE_SELF = 1\n",
        "\n",
        "  def __init__(self, mask_type, *args, **kwargs):\n",
        "    super().__init__(*args, **kwargs)\n",
        "\n",
        "    i, o, h, w = self.weight.shape\n",
        "    # TODO(eugenhotaj): Will this masking logic work correctly for even kernel \n",
        "    # sizes? If not, maybe we should raise an exception instead.\n",
        "    mask = torch.zeros((i, o, h, w))\n",
        "    mask.data[:, :, :h//2, :] = 1\n",
        "    mask.data[:, :, h//2, :w//2 + mask_type] = 1\n",
        "    self.register_buffer('mask', mask)\n",
        "\n",
        "  def forward(self, x):\n",
        "    return self._conv_forward(x, self.weight * self.mask)\n",
        "\n",
        "    \n",
        "class MaskedResidualBlock(nn.Module):\n",
        "  \n",
        "  def __init__(self, n_channels):\n",
        "    super().__init__()\n",
        "    self._net = nn.Sequential(\n",
        "        # NOTE(eugenhotaj): The PixelCNN paper users Relu->Conv2d since they do\n",
        "        # not use a ReLU in the first layer. We instead use Conv2d->ReLU as is \n",
        "        # traditionally done.\n",
        "        nn.Conv2d(in_channels=n_channels, \n",
        "                  out_channels=n_channels//2, \n",
        "                  kernel_size=1),\n",
        "        nn.ReLU(),\n",
        "        MaskedConv2d(mask_type=MaskedConv2d.INCLUDE_SELF,\n",
        "                     in_channels=n_channels//2,\n",
        "                     out_channels=n_channels//2,\n",
        "                     kernel_size=3,\n",
        "                     padding=1),\n",
        "        nn.ReLU(),\n",
        "        nn.Conv2d(in_channels=n_channels//2, \n",
        "                  out_channels=n_channels,\n",
        "                  kernel_size=1),\n",
        "        nn.ReLU())\n",
        "\n",
        "  def forward(self, x):\n",
        "    return x + self._net(x)\n",
        "\n",
        "\n",
        "class PixelCNN(nn.Module):\n",
        "\n",
        "  def __init__(self, \n",
        "               in_channels, \n",
        "               residual_channels=16, \n",
        "               head_channels=32,\n",
        "               n_residual_blocks=4):\n",
        "    \"\"\"Initializes a new PixelCNN instance.\n",
        "    \n",
        "    Args:\n",
        "      in_channels: The number of channels in the input image (typically either \n",
        "        1 or 3 for black and white or color images respectively).\n",
        "      residual_channels: The number of channels to use in the residual layers.\n",
        "        This corresponds to the 'h' parameter in the van den Oord et al. (2016)\n",
        "        paper.\n",
        "      head_channels: The number of channels to use in the two 1x1 convolutional\n",
        "        layers at the head of the network.\n",
        "      n_residual_blocks: The number of residual blocks to use.\n",
        "    \"\"\"\n",
        "\n",
        "    super().__init__()\n",
        "\n",
        "    layers = [\n",
        "      MaskedConv2d(mask_type=MaskedConv2d.EXCLUDE_SELF,\n",
        "                   in_channels=in_channels,\n",
        "                   out_channels=2*residual_channels,\n",
        "                   kernel_size=7,\n",
        "                   padding=3)]\n",
        "    for _ in range(n_residual_blocks):\n",
        "      layers.append(MaskedResidualBlock(n_channels=2*residual_channels))\n",
        "    # TODO(eugenhotaj): Do we even need the head channels?\n",
        "    layers.extend([\n",
        "        nn.Conv2d(in_channels=2*residual_channels, \n",
        "                  out_channels=head_channels, \n",
        "                  kernel_size=1),\n",
        "        nn.ReLU(),\n",
        "        nn.Conv2d(in_channels=head_channels, \n",
        "                  out_channels=in_channels, \n",
        "                  kernel_size=1),\n",
        "        nn.Sigmoid()\n",
        "    ])\n",
        "    self._net = nn.Sequential(*layers)\n",
        "\n",
        "  def forward(self, x):\n",
        "    return self._net(x)\n",
        "\n",
        "  def sample(self):\n",
        "    \"\"\"Samples a new image.\n",
        "    \n",
        "    Args:\n",
        "      conditioned_on: An (optional) image to condition samples on. Only \n",
        "        dimensions with values < 0 will be sampled. For example, if \n",
        "        conditioned_on[i] = -1, then output[i] will be sampled conditioned on\n",
        "        dimensions j < i. If 'None', an unconditional sample will be generated.\n",
        "    \"\"\"\n",
        "    with torch.no_grad():\n",
        "      device = next(self.parameters()).device\n",
        "      conditioned_on = (torch.ones((1, 1,  28, 28)) * - 1).to(device)\n",
        "\n",
        "      for channel in range(1):\n",
        "        for row in range(28):\n",
        "          for column in range(28):\n",
        "            out = self.forward(conditioned_on)[:, channel, row, column]\n",
        "            out = distributions.Bernoulli(probs=out).sample()\n",
        "            conditioned_on[:, channel, row, column] = torch.where(\n",
        "                conditioned_on[:, channel, row, column] < 0,\n",
        "                out, \n",
        "                conditioned_on[:, channel, row, column])\n",
        "      return conditioned_on"
      ],
      "execution_count": 36,
      "outputs": []
    },
    {
      "cell_type": "code",
      "metadata": {
        "id": "p9DI91SY4Cg5",
        "colab_type": "code",
        "colab": {
          "base_uri": "https://localhost:8080/",
          "height": 68
        },
        "outputId": "1603dc6f-f77f-4dfb-88fd-65fcfb575e77"
      },
      "source": [
        "IN_CHANNELS = 1\n",
        "RESIDUAL_CHANNELS = 16\n",
        "HEAD_CHANNELS = 32\n",
        "N_RESIDUAL_BLOCKS = 12\n",
        "\n",
        "N_EPOCHS = 50\n",
        "\n",
        "torch.cuda.empty_cache()\n",
        "model = PixelCNN(IN_CHANNELS, \n",
        "                 RESIDUAL_CHANNELS, \n",
        "                 HEAD_CHANNELS, \n",
        "                 N_RESIDUAL_BLOCKS).to(colab_utils.get_device())\n",
        "optimizer = optim.Adam(model.parameters())\n",
        "bce_loss_fn = nn.BCELoss(reduction='none')\n",
        "\n",
        "def loss_fn(x, _, preds):\n",
        "  batch_size = x.shape[0]\n",
        "  x, preds = x.view((batch_size, -1)), preds.view((batch_size, -1))\n",
        "  return bce_loss_fn(preds, x).sum(dim=1).mean()\n",
        "\n",
        "train_losses, eval_losses = colab_utils.train_andor_evaluate(\n",
        "    model, \n",
        "    loss_fn, \n",
        "    optimizer=optimizer, \n",
        "    n_epochs=N_EPOCHS, \n",
        "    train_loader=train_loader,\n",
        "    eval_loader=test_loader,\n",
        "    device=colab_utils.get_device())"
      ],
      "execution_count": null,
      "outputs": [
        {
          "output_type": "stream",
          "text": [
            "[1|1584]: train_loss=103.70847060139974 eval_loss=94.7679193359375\n",
            "[2|1586]: train_loss=93.91551056315105 eval_loss=92.9171821899414\n",
            "[3|1559]: train_loss=92.93195971272786 eval_loss=91.75038044433593\n"
          ],
          "name": "stdout"
        }
      ]
    },
    {
      "cell_type": "code",
      "metadata": {
        "id": "9gjXKprXr4VA",
        "colab_type": "code",
        "colab": {
          "base_uri": "https://localhost:8080/",
          "height": 497
        },
        "outputId": "2ac454c4-7d46-407b-98e9-ad7521a20eb1"
      },
      "source": [
        "epochs = len(train_losses)\n",
        "plt.figure(figsize=(8, 8))\n",
        "plt.plot(range(epochs), train_losses)\n",
        "plt.plot(range(epochs), eval_losses)\n",
        "plt.legend(['train', 'test'])\n",
        "plt.xlabel('epoch')\n",
        "plt.ylabel('loss')\n",
        "plt.show()"
      ],
      "execution_count": null,
      "outputs": [
        {
          "output_type": "display_data",
          "data": {
            "image/png": "[encoded data removed]",
            "text/plain": [
              "<Figure size 576x576 with 1 Axes>"
            ]
          },
          "metadata": {
            "tags": [],
            "needs_background": "light"
          }
        }
      ]
    },
    {
      "cell_type": "code",
      "metadata": {
        "id": "h5lS_Mgj4LSk",
        "colab_type": "code",
        "colab": {}
      },
      "source": [
        "def show_random(model, dataset):\n",
        "  idx = np.random.choice(len(dataset))\n",
        "  img = dataset[idx][0].unsqueeze(0).to(colab_utils.get_device())\n",
        "  img_hat = model(img)\n",
        "  colab_utils.imshow(img.reshape(28, 28))\n",
        "  colab_utils.imshow(img_hat.reshape(28, 28))\n",
        "\n",
        "\n",
        "def sample(model):\n",
        "  colab_utils.imshow(model.sample().reshape(28, 28))\n",
        "\n",
        "\n",
        "def conditional_sample_random(model, dataset):\n",
        "  idx = np.random.choice(len(dataset))\n",
        "  img = dataset[idx][0].reshape(1, -1).to(colab_utils.get_device())\n",
        "  img[0, 300:600] = -1\n",
        "  colab_utils.imshow(img.reshape(28, 28))\n",
        "  plt.show()\n",
        "  print(\"Conditional Samples:\")\n",
        "  for i in range(5):\n",
        "    img_hat = model.sample(img)\n",
        "    colab_utils.imshow(img_hat.reshape(28, 28))"
      ],
      "execution_count": null,
      "outputs": []
    },
    {
      "cell_type": "code",
      "metadata": {
        "id": "bZZZOkGQ4gBZ",
        "colab_type": "code",
        "colab": {
          "base_uri": "https://localhost:8080/",
          "height": 479
        },
        "outputId": "a15cefaa-332c-474a-d08a-36e840ce2b92"
      },
      "source": [
        "show_random(model, test_loader.dataset)"
      ],
      "execution_count": null,
      "outputs": [
        {
          "output_type": "display_data",
          "data": {
            "image/png": "[encoded data removed]",
            "text/plain": [
              "<Figure size 432x288 with 1 Axes>"
            ]
          },
          "metadata": {
            "tags": [],
            "needs_background": "light"
          }
        },
        {
          "output_type": "display_data",
          "data": {
            "image/png": "[encoded data removed]",
            "text/plain": [
              "<Figure size 432x288 with 1 Axes>"
            ]
          },
          "metadata": {
            "tags": [],
            "needs_background": "light"
          }
        }
      ]
    },
    {
      "cell_type": "code",
      "metadata": {
        "id": "K4_D09Pd63dt",
        "colab_type": "code",
        "colab": {
          "base_uri": "https://localhost:8080/",
          "height": 34
        },
        "outputId": "e4af3276-51b9-4098-9607-287a26a19482"
      },
      "source": [
        "model_weights = model.state_dict()\n",
        "model = PixelCNN(IN_CHANNELS, HIDDEN_CHANNELS, HEAD_CHANNELS).to(\n",
        "    colab_utils.get_device())\n",
        "model.load_state_dict(model_weights)"
      ],
      "execution_count": null,
      "outputs": [
        {
          "output_type": "execute_result",
          "data": {
            "text/plain": [
              "<All keys matched successfully>"
            ]
          },
          "metadata": {
            "tags": []
          },
          "execution_count": 34
        }
      ]
    },
    {
      "cell_type": "code",
      "metadata": {
        "id": "PEn_aUj_576j",
        "colab_type": "code",
        "colab": {}
      },
      "source": [
        "sample(model)"
      ],
      "execution_count": null,
      "outputs": []
    }
  ]
}