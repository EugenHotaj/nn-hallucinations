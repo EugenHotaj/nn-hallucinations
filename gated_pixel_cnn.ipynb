{
  "nbformat": 4,
  "nbformat_minor": 0,
  "metadata": {
    "colab": {
      "name": "gated_pixel_cnn.ipynb",
      "provenance": [],
      "collapsed_sections": [],
      "authorship_tag": "ABX9TyNzAHu8zq9KOn5HPH8Knzdc",
      "include_colab_link": true
    },
    "kernelspec": {
      "name": "python3",
      "display_name": "Python 3"
    },
    "accelerator": "GPU"
  },
  "cells": [
    {
      "cell_type": "markdown",
      "metadata": {
        "id": "view-in-github",
        "colab_type": "text"
      },
      "source": [
        "<a href=\"https://colab.research.google.com/github/EugenHotaj/nn-hallucinations/blob/master/gated_pixel_cnn.ipynb\" target=\"_parent\"><img src=\"https://colab.research.google.com/assets/colab-badge.svg\" alt=\"Open In Colab\"/></a>"
      ]
    },
    {
      "cell_type": "code",
      "metadata": {
        "id": "ij3tASXjtl0_",
        "colab_type": "code",
        "colab": {
          "base_uri": "https://localhost:8080/",
          "height": 153
        },
        "outputId": "c72a7642-0b27-47c1-9c4d-660eb6456da0"
      },
      "source": [
        "!git clone https://www.github.com/EugenHotaj/nn-hallucinations nn_hallucinations"
      ],
      "execution_count": 1,
      "outputs": [
        {
          "output_type": "stream",
          "text": [
            "Cloning into 'nn_hallucinations'...\n",
            "warning: redirecting to https://github.com/EugenHotaj/nn-hallucinations.git/\n",
            "remote: Enumerating objects: 126, done.\u001b[K\n",
            "remote: Counting objects: 100% (126/126), done.\u001b[K\n",
            "remote: Compressing objects: 100% (115/115), done.\u001b[K\n",
            "remote: Total 126 (delta 66), reused 27 (delta 11), pack-reused 0\u001b[K\n",
            "Receiving objects: 100% (126/126), 13.49 MiB | 7.43 MiB/s, done.\n",
            "Resolving deltas: 100% (66/66), done.\n"
          ],
          "name": "stdout"
        }
      ]
    },
    {
      "cell_type": "code",
      "metadata": {
        "id": "fhbHjHAGuIQY",
        "colab_type": "code",
        "colab": {}
      },
      "source": [
        "from google.colab import files\n",
        "import matplotlib.pyplot as plt\n",
        "from nn_hallucinations import colab_utils\n",
        "import numpy as np\n",
        "import torch\n",
        "from torch import distributions\n",
        "from torch import nn\n",
        "from torch import optim\n",
        "from torch.nn import functional as F\n",
        "from torch.utils import data\n",
        "from torchvision import transforms\n",
        "from torchvision import datasets"
      ],
      "execution_count": 4,
      "outputs": []
    },
    {
      "cell_type": "code",
      "metadata": {
        "id": "UD2P_H8HS9Aw",
        "colab_type": "code",
        "colab": {}
      },
      "source": [
        "# TODO(eugenhotaj): Replace this with the new Trainer object.\n",
        "def _train_one_epoch(model, loss_fn, optimizer, train_loader, device):\n",
        "\n",
        "    def _train_batch_fn(x, y):\n",
        "        optimizer.zero_grad()\n",
        "        preds = model(x)\n",
        "        loss = loss_fn(x, y, preds)\n",
        "        loss.backward()\n",
        "        nn.utils.clip_grad_norm_(model.parameters(), .1)\n",
        "        optimizer.step()\n",
        "        return loss\n",
        "\n",
        "    model.train()\n",
        "    return colab_utils._run_one_epoch(_train_batch_fn, train_loader, device)\n",
        "\n",
        "colab_utils._train_one_epoch = _train_one_epoch"
      ],
      "execution_count": 28,
      "outputs": []
    },
    {
      "cell_type": "code",
      "metadata": {
        "id": "PKzRg91VuUTM",
        "colab_type": "code",
        "colab": {}
      },
      "source": [
        "BATCH_SIZE = 128\n",
        "\n",
        "TRANSFORM = transforms.Compose([\n",
        "    transforms.ToTensor(),\n",
        "    lambda x: distributions.Bernoulli(probs=x).sample()])\n",
        "\n",
        "train_loader = data.DataLoader(\n",
        "    datasets.MNIST('../data', train=True, download=True, transform=TRANSFORM),\n",
        "    batch_size=BATCH_SIZE, \n",
        "    shuffle=True,\n",
        "    pin_memory=True,\n",
        "    num_workers=4)\n",
        "test_loader = data.DataLoader(\n",
        "    datasets.MNIST('../data', train=False, download=True,transform=TRANSFORM),\n",
        "    batch_size=BATCH_SIZE,\n",
        "    pin_memory=True,\n",
        "    num_workers=4)"
      ],
      "execution_count": 10,
      "outputs": []
    },
    {
      "cell_type": "code",
      "metadata": {
        "id": "4G47fcG6hOmc",
        "colab_type": "code",
        "colab": {}
      },
      "source": [
        "# TODO(eugenhotaj): Move these into colab_utils or\n",
        "class OneBatchLoaderWrapper:\n",
        "  \"\"\"A torch.utils.DataLoader wrapper which always returns the same batch.\"\"\"\n",
        "\n",
        "  def __init__(self, loader):\n",
        "    \"\"\"Initializes a new OneBatchLoaderWrapper instance.\n",
        "    \n",
        "    Args:\n",
        "      loader: The torch.utils.DataLoader to wrap.\n",
        "    \"\"\"\n",
        "    self._exhausted = False\n",
        "    self._batch = next(iter(loader))\n",
        "\n",
        "  def __iter__(self):\n",
        "    self._exhausted = False\n",
        "    return self\n",
        "\n",
        "  def __next__(self):\n",
        "    if not self._exhausted:\n",
        "      self._exhausted = True\n",
        "      return self._batch\n",
        "    raise StopIteration() \n",
        "\n",
        "\n",
        "class OneExampleLoaderWrapper:\n",
        "  \"\"\"A torch.utils.DataLoader wrapper which always returns the same example.\"\"\"\n",
        "\n",
        "  def __init__(self, loader):\n",
        "    \"\"\"Initializes a new OneBatchLoaderWrapper instance.\n",
        "    \n",
        "    Args:\n",
        "      loader: The torch.utils.DataLoader to wrap. We assume the loader returns\n",
        "        tuples of batches where each item in the tuple has batch_size as\n",
        "        the first dimension. We do not impose a restriction on the size of the\n",
        "        tuple. E.g., (X), (X, Y), (X, Y, Z), ... are all valid tuples as long as\n",
        "        X.shape[0] == Y.shape[0] == Z.shape[0] == batch_size.\n",
        "    \"\"\"\n",
        "    self._exhausted = False\n",
        "    batch = next(iter(loader))\n",
        "    self._example = [item[:1] for item in batch]\n",
        "\n",
        "  def __iter__(self):\n",
        "    self._exhausted = False\n",
        "    return self\n",
        "\n",
        "  def __next__(self):\n",
        "    if not self._exhausted:\n",
        "      self._exhausted = True\n",
        "      return self._example\n",
        "    raise StopIteration() \n",
        "\n",
        "debug_loader = OneExampleLoaderWrapper(train_loader)"
      ],
      "execution_count": 11,
      "outputs": []
    },
    {
      "cell_type": "code",
      "metadata": {
        "id": "aLCatRxBJIBJ",
        "colab_type": "code",
        "colab": {}
      },
      "source": [
        "class GatedActivation(nn.Module):\n",
        "  \"\"\"A gated activation function [1].\n",
        "  \n",
        "  The function computes 'tanh(f) * sigmoid(g)' where 'f' and 'g' are the top \n",
        "  1/2 and bottom 1/2 of the channels for some input image 'x'.\n",
        "\n",
        "  [1]: https://arxiv.org/abs/1606.05328\n",
        "  \"\"\"\n",
        "\n",
        "  def forward(self, x):\n",
        "    _, c, _, _ = x.shape\n",
        "    assert c % 2 == 0, 'x must have an even number of channels.'\n",
        "    tanh, sigmoid = x[:, :c//2, :, :], x[:, c//2:, :, :]\n",
        "    return torch.tanh(tanh) * torch.sigmoid(sigmoid)\n",
        "\n",
        "\n",
        "class GatedPixelCNNLayer(nn.Module):\n",
        "  \"\"\"A Gated PixelCNN layer [1].\n",
        "\n",
        "  We follow the implementaiton in [2]. For efficiency, the masked Nx1 and 1xN\n",
        "  convolutions are implemented via unmasked (N//2+1)x1 and 1x(N//2+1) \n",
        "  convolutions with padding and cropping, as suggested in [1].\n",
        "\n",
        "  N.B.: This layer does *not* implement autoregressive channel masking. For \n",
        "  outputs with multiple channels, other methods can be used, e.g. [3]. \n",
        "\n",
        "  The layer takes as input 'vstack' and 'hstack' from previous \n",
        "  'GatedPixelCNNLayers' and returns 'vstack', 'hstack', 'skip' where 'skip' is\n",
        "  the skip connection to the pre-logits layer.\n",
        "\n",
        "  [1]: https://arxiv.org/abs/1606.05328\n",
        "  [2]: http://www.scottreed.info/files/iclr2017.pdf\n",
        "  [3]: https://arxiv.org/abs/1701.05517\n",
        "  \"\"\"\n",
        "\n",
        "  def __init__(self, in_channels, out_channels, kernel_size=3, is_causal=False):\n",
        "    \"\"\"Initializes a new GatedPixelCNNLayer instance.\n",
        "\n",
        "    Args:\n",
        "      in_channels: The number of channels in the input.\n",
        "      out_channels: The number of output channels.\n",
        "      kernel_size: The size of the (masked) convolutional kernel to use.\n",
        "      is_causal: Whether the 'GatedPixelCNNLayer' is causal. If 'True', the \n",
        "        current pixel is masked out so the computation only depends on pixels\n",
        "        to the left and above. The residual connection in the horizontal stack\n",
        "        is also removed.\n",
        "    \"\"\"\n",
        "    super().__init__()\n",
        "\n",
        "    assert kernel_size % 2 == 1, 'kernel_size cannot be even'\n",
        "\n",
        "    self._in_channels = in_channels\n",
        "    self._out_channels = out_channels\n",
        "    self._activation = GatedActivation(self._out_channels)\n",
        "    self._kernel_size = kernel_size\n",
        "    self._padding = (kernel_size - 1) // 2  # (kernel_size - stride) / 2\n",
        "    self._is_causal = is_causal\n",
        "\n",
        "    # Vertical stack convolutions.\n",
        "    self._vstack_1xN = nn.Conv2d(\n",
        "        in_channels=self._in_channels, out_channels=self._out_channels, \n",
        "        kernel_size=(1, self._kernel_size),\n",
        "        padding=(0, self._padding))\n",
        "    # TODO(eugenhotaj): Is it better to shift down the the vstack_Nx1 output\n",
        "    # instead of adding extra padding to the convolution? When we add extra \n",
        "    # padding, the cropped output rows will no longer line up with the rows of \n",
        "    # the vstack_1x1 output.\n",
        "    self._vstack_Nx1 = nn.Conv2d(\n",
        "        in_channels=self._out_channels, out_channels=2*self._out_channels,\n",
        "        kernel_size=(self._kernel_size//2 + 1, 1),\n",
        "        padding=(self._padding + 1, 0))\n",
        "    self._vstack_1x1 = nn.Conv2d(\n",
        "        in_channels=in_channels, out_channels=2*out_channels, kernel_size=1)\n",
        "\n",
        "    self._link = nn.Conv2d(\n",
        "        in_channels=2*out_channels, out_channels=2*out_channels, kernel_size=1)\n",
        "\n",
        "    # Horizontal stack convolutions.\n",
        "    self._hstack_1xN = nn.Conv2d(\n",
        "        in_channels=self._in_channels, out_channels=2*self._out_channels,\n",
        "        kernel_size=(1, self._kernel_size//2 + 1),\n",
        "        padding=(0, self._padding + int(self._is_causal)))\n",
        "    self._hstack_residual = nn.Conv2d(\n",
        "        in_channels=out_channels, out_channels=out_channels, kernel_size=1)\n",
        "    self._hstack_skip = nn.Conv2d(\n",
        "        in_channels=out_channels, out_channels=out_channels, kernel_size=1)\n",
        "\n",
        "  def forward(self, vstack_input, hstack_input):\n",
        "    \"\"\"Computes the forward pass.\n",
        "    \n",
        "    Args:\n",
        "      vstack_input: The input to the vertical stack.\n",
        "      hstack_input: The input to the horizontal stack.\n",
        "    Returns:\n",
        "      (vstack,  hstack, skip) where vstack and hstack are the vertical stack\n",
        "      and horizontal stack outputs respectively and skip is the skip connection\n",
        "      output. \n",
        "    \"\"\"\n",
        "    _, _, h, w = vstack_input.shape  # Assuming NCHW.\n",
        "\n",
        "    # Compute vertical stack.\n",
        "    vstack = self._vstack_Nx1(self._vstack_1xN(vstack_input))[:, :, :h, :]\n",
        "    link = self._link(vstack)\n",
        "    vstack += self._vstack_1x1(vstack_input)\n",
        "    vstack = self._activation(vstack)\n",
        "\n",
        "    # Compute horizontal stack.\n",
        "    hstack = link + self._hstack_1xN(hstack_input)[:, :, :, :w]\n",
        "    hstack = self._activation(hstack)\n",
        "    skip = self._hstack_skip(hstack)\n",
        "    hstack = self._hstack_residual(hstack)\n",
        "    # NOTE(eugenhotaj): We cannot use a residual connection for causal layers\n",
        "    # otherwise we'll have access to future pixels.\n",
        "    if not self._is_causal:\n",
        "      hstack += hstack_input\n",
        "\n",
        "    return vstack, hstack, skip\n",
        "\n",
        "\n",
        "class GatedPixelCNN(nn.Module):\n",
        "  \"\"\"The Gated PixelCNN model.\n",
        "  \n",
        "  We follow the implementation in [1]. However, unlike [1], for the input we use\n",
        "  a causually masked 'GatedPixelCNNLayer', instead of a masked 2d convolution.\n",
        "\n",
        "  [1]: http://www.scottreed.info/files/iclr2017.pdf\n",
        "  \"\"\"\n",
        "\n",
        "  def __init__(self, \n",
        "               in_channels, \n",
        "               n_gated=10,\n",
        "               gated_channels=128,\n",
        "               head_channels=32):\n",
        "    \"\"\"Initializes a new GatedPixelCNN instance.\n",
        "    \n",
        "    Args:\n",
        "      in_channels: The number of channels in the input.\n",
        "      n_channels: The number of gated layers (not including the input layers).\n",
        "      gated_channels: The number of channels to use in the gated layers.\n",
        "      head_channels: The number of channels to use in the 1x1 convolution blocks\n",
        "        in the head after all the gated channels.\n",
        "    \"\"\"\n",
        "\n",
        "    super().__init__()\n",
        "    self._input = GatedPixelCNNLayer(\n",
        "      in_channels=in_channels,\n",
        "      out_channels=hidden_channels,\n",
        "      kernel_size=7,\n",
        "      is_causal=True)\n",
        "    self._gated_layers = nn.ModuleList([\n",
        "        GatedPixelCNNLayer(in_channels=hidden_channels, \n",
        "                           out_channels=hidden_channels,\n",
        "                           kernel_size=3,\n",
        "                           is_causal=False)\n",
        "        for _ in range(n_gated)\n",
        "    ])\n",
        "    self._head = nn.Sequential(\n",
        "        nn.ReLU(),\n",
        "        nn.Conv2d(in_channels=hidden_channels, \n",
        "                  out_channels=head_channels, \n",
        "                  kernel_size=1),\n",
        "        nn.ReLU(),\n",
        "        nn.Conv2d(in_channels=head_channels, \n",
        "                  out_channels=in_channels,\n",
        "                  kernel_size=1),\n",
        "        nn.Sigmoid())\n",
        "\n",
        "  def forward(self, x):\n",
        "    vstack, hstack, skip_connections = self._input(x, x)\n",
        "    for gated_layer in self._gated_layers:\n",
        "      vstack, hstack, skip = gated_layer(vstack, hstack)\n",
        "      skip_connections += skip\n",
        "    return self._head(skip_connections)\n",
        "\n",
        "\n",
        "  def sample(self, condition_on):\n",
        "    \"\"\"Samples a new image.\n",
        "    \n",
        "    Args:\n",
        "      conditioned_on: An (optional) image to condition samples on. Only \n",
        "        dimensions with values < 0 will be sampled. For example, if \n",
        "        conditioned_on[i] = -1, then output[i] will be sampled conditioned on\n",
        "        dimensions j < i. If 'None', an unconditional sample will be generated.\n",
        "    \"\"\"\n",
        "    with torch.no_grad():\n",
        "    \n",
        "      for dim in ordering:\n",
        "        conditioned_on[:, dim] = torch.where(\n",
        "            conditioned_on[:, dim] < 0, out, conditioned_on[:, dim])\n",
        "      return conditioned_on\n",
        "\n",
        "    with torch.no_grad():\n",
        "      if conditioned_on is None:\n",
        "        device = next(self.parameters()).device\n",
        "        conditioned_on = (torch.ones((1, self._input_dim)) * - 1).to(device)\n",
        "      else:\n",
        "        conditioned_on = conditioned_on.clone()\n",
        "\n",
        "      for row in range(28):\n",
        "        for column in range(28):\n",
        "          for channel in range(1):\n",
        "            out = self.forward(conditioned_on)[:, channel, row, column]\n",
        "            out = distributions.Bernoulli(probs=out).sample()\n",
        "            conditioned_on[:, channel, row, column] = torch.where(\n",
        "                conditioned_on[:, channel, row, column] < 0, out, \n",
        "                conditioned_on[:, channel, row, column])\n",
        "      return conditioned_on"
      ],
      "execution_count": null,
      "outputs": []
    },
    {
      "cell_type": "code",
      "metadata": {
        "id": "p9DI91SY4Cg5",
        "colab_type": "code",
        "colab": {}
      },
      "source": [
        "IN_CHANNELS = 1\n",
        "N_GATED = 10\n",
        "GATED_CHANNELS = 128\n",
        "HEAD_CHANNELS = 32\n",
        "\n",
        "N_EPOCHS = 50\n",
        "\n",
        "torch.cuda.empty_cache()\n",
        "model = GatedPixelCNN(IN_CHANNELS, N_GATED, GATED_CHANNELS, HEAD_CHANNEL\n",
        "                      ).to(colab_utils.get_device())\n",
        "optimizer = optim.Adam(model.parameters(), lr=1e-4)\n",
        "bce_loss_fn = nn.BCELoss(reduction='none')\n",
        "\n",
        "def loss_fn(x, _, preds):\n",
        "  batch_size = x.shape[0]\n",
        "  x, preds = x.view((batch_size, -1)), preds.view((batch_size, -1))\n",
        "  return bce_loss_fn(preds, x).sum(dim=1).mean()\n",
        "\n",
        "train_losses, eval_losses = colab_utils.train_andor_evaluate(\n",
        "    model, \n",
        "    loss_fn, \n",
        "    optimizer=optimizer, \n",
        "    n_epochs=N_EPOCHS, \n",
        "    train_loader=train_loader,\n",
        "    eval_loader=test_loader,\n",
        "    device=colab_utils.get_device())"
      ],
      "execution_count": null,
      "outputs": []
    },
    {
      "cell_type": "code",
      "metadata": {
        "id": "9gjXKprXr4VA",
        "colab_type": "code",
        "colab": {
          "base_uri": "https://localhost:8080/",
          "height": 497
        },
        "outputId": "3bc4c422-64fc-4a0b-c891-fa11e0731fc6"
      },
      "source": [
        "epochs = len(train_losses)\n",
        "plt.figure(figsize=(8, 8))\n",
        "plt.plot(range(epochs), train_losses)\n",
        "plt.plot(range(epochs), eval_losses)\n",
        "plt.legend(['train', 'test'])\n",
        "plt.xlabel('epoch')\n",
        "plt.ylabel('loss')\n",
        "plt.show()"
      ],
      "execution_count": 32,
      "outputs": [
        {
          "output_type": "display_data",
          "data": {
            "image/png": "[encoded data removed]",
            "text/plain": [
              "<Figure size 576x576 with 1 Axes>"
            ]
          },
          "metadata": {
            "tags": [],
            "needs_background": "light"
          }
        }
      ]
    },
    {
      "cell_type": "code",
      "metadata": {
        "id": "h5lS_Mgj4LSk",
        "colab_type": "code",
        "colab": {}
      },
      "source": [
        "def show_random(model, dataset):\n",
        "  idx = np.random.choice(len(dataset))\n",
        "  img = dataset[idx][0].unsqueeze(0).to(colab_utils.get_device())\n",
        "  img_hat = model(img)\n",
        "  colab_utils.imshow(img.reshape(28, 28))\n",
        "  colab_utils.imshow(img_hat.reshape(28, 28))\n",
        "\n",
        "\n",
        "def sample(model):\n",
        "  colab_utils.imshow(model.sample().reshape(28, 28))\n",
        "\n",
        "\n",
        "def conditional_sample_random(model, dataset):\n",
        "  idx = np.random.choice(len(dataset))\n",
        "  img = dataset[idx][0].reshape(1, -1).to(colab_utils.get_device())\n",
        "  img[0, 300:600] = -1\n",
        "  colab_utils.imshow(img.reshape(28, 28))\n",
        "  plt.show()\n",
        "  print(\"Conditional Samples:\")\n",
        "  for i in range(5):\n",
        "    img_hat = model.sample(img)\n",
        "    colab_utils.imshow(img_hat.reshape(28, 28))"
      ],
      "execution_count": 33,
      "outputs": []
    },
    {
      "cell_type": "code",
      "metadata": {
        "id": "bZZZOkGQ4gBZ",
        "colab_type": "code",
        "colab": {
          "base_uri": "https://localhost:8080/",
          "height": 479
        },
        "outputId": "d5b916e5-5916-49ab-c6f3-dea0746a4af6"
      },
      "source": [
        "show_random(model, test_loader.dataset)"
      ],
      "execution_count": 34,
      "outputs": [
        {
          "output_type": "display_data",
          "data": {
            "image/png": "[encoded data removed]",
            "text/plain": [
              "<Figure size 432x288 with 1 Axes>"
            ]
          },
          "metadata": {
            "tags": [],
            "needs_background": "light"
          }
        },
        {
          "output_type": "display_data",
          "data": {
            "image/png": "[encoded data removed]",
            "text/plain": [
              "<Figure size 432x288 with 1 Axes>"
            ]
          },
          "metadata": {
            "tags": [],
            "needs_background": "light"
          }
        }
      ]
    },
    {
      "cell_type": "code",
      "metadata": {
        "id": "nLNniD4LTRxa",
        "colab_type": "code",
        "colab": {
          "base_uri": "https://localhost:8080/",
          "height": 479
        },
        "outputId": "6f1d025b-63d3-4866-f0c9-7fe71fd957fd"
      },
      "source": [
        "img = next(iter(debug_loader))[0].to(colab_utils.get_device())\n",
        "img_hat = model(img)\n",
        "colab_utils.imshow(img.reshape(28, 28))\n",
        "colab_utils.imshow(img_hat.reshape(28, 28))\n"
      ],
      "execution_count": null,
      "outputs": [
        {
          "output_type": "display_data",
          "data": {
            "image/png": "[encoded data removed]",
            "text/plain": [
              "<Figure size 432x288 with 1 Axes>"
            ]
          },
          "metadata": {
            "tags": [],
            "needs_background": "light"
          }
        },
        {
          "output_type": "display_data",
          "data": {
            "image/png": "[encoded data removed]",
            "text/plain": [
              "<Figure size 432x288 with 1 Axes>"
            ]
          },
          "metadata": {
            "tags": [],
            "needs_background": "light"
          }
        }
      ]
    },
    {
      "cell_type": "code",
      "metadata": {
        "id": "PEn_aUj_576j",
        "colab_type": "code",
        "colab": {
          "base_uri": "https://localhost:8080/",
          "height": 248
        },
        "outputId": "8ae013d6-00f2-48f6-fd44-a80600bd0ca4"
      },
      "source": [
        "sample(model)"
      ],
      "execution_count": 37,
      "outputs": [
        {
          "output_type": "display_data",
          "data": {
            "image/png": "[encoded data removed]",
            "text/plain": [
              "<Figure size 432x288 with 1 Axes>"
            ]
          },
          "metadata": {
            "tags": [],
            "needs_background": "light"
          }
        }
      ]
    }
  ]
}