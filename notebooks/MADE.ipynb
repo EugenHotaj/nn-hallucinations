{
  "nbformat": 4,
  "nbformat_minor": 0,
  "metadata": {
    "colab": {
      "name": "MADE.ipynb",
      "provenance": [],
      "collapsed_sections": [],
      "authorship_tag": "ABX9TyNU81i5q++HIoeM6zVZ7XAK",
      "include_colab_link": true
    },
    "kernelspec": {
      "name": "python3",
      "display_name": "Python 3"
    },
    "accelerator": "GPU"
  },
  "cells": [
    {
      "cell_type": "markdown",
      "metadata": {
        "id": "view-in-github",
        "colab_type": "text"
      },
      "source": [
        "<a href=\"https://colab.research.google.com/github/EugenHotaj/nn-hallucinations/blob/master/MADE.ipynb\" target=\"_parent\"><img src=\"https://colab.research.google.com/assets/colab-badge.svg\" alt=\"Open In Colab\"/></a>"
      ]
    },
    {
      "cell_type": "code",
      "metadata": {
        "id": "cTESiyxn8VX3",
        "colab_type": "code",
        "colab": {
          "base_uri": "https://localhost:8080/",
          "height": 34
        },
        "outputId": "3535eaff-be52-43f7-bb60-90e24a8f7dc7"
      },
      "source": [
        "!git clone https://www.github.com/EugenHotaj/nn-hallucinations nn_hallucinations"
      ],
      "execution_count": 3,
      "outputs": [
        {
          "output_type": "stream",
          "text": [
            "fatal: destination path 'nn_hallucinations' already exists and is not an empty directory.\n"
          ],
          "name": "stdout"
        }
      ]
    },
    {
      "cell_type": "code",
      "metadata": {
        "id": "r65ruYyo1Hx_",
        "colab_type": "code",
        "colab": {}
      },
      "source": [
        "import time\n",
        "\n",
        "import matplotlib.pyplot as plt\n",
        "from nn_hallucinations import colab_utils\n",
        "import numpy as np\n",
        "import torch\n",
        "from torch import distributions \n",
        "from torch import nn\n",
        "from torch import optim\n",
        "from torch.nn import functional as F\n",
        "from torch.utils import data\n",
        "import torchvision\n",
        "from torchvision import transforms\n",
        "from torchvision import datasets"
      ],
      "execution_count": 79,
      "outputs": []
    },
    {
      "cell_type": "code",
      "metadata": {
        "id": "aVZCCtQT8Men",
        "colab_type": "code",
        "colab": {}
      },
      "source": [
        "BATCH_SIZE = 512\n",
        "TRANSFORM = transforms.Compose([\n",
        "    transforms.ToTensor(),\n",
        "    lambda x: x.view(-1),  # Flatten.\n",
        "    lambda x: distributions.Bernoulli(probs=x).sample()])\n",
        "\n",
        "train_loader = data.DataLoader(\n",
        "    datasets.MNIST('../data', train=True, download=True, transform=TRANSFORM),\n",
        "    batch_size=BATCH_SIZE, \n",
        "    shuffle=True)\n",
        "test_loader = data.DataLoader(\n",
        "    datasets.MNIST('../data', train=False, download=True,transform=TRANSFORM),\n",
        "    batch_size=BATCH_SIZE*2)"
      ],
      "execution_count": 80,
      "outputs": []
    },
    {
      "cell_type": "code",
      "metadata": {
        "id": "jOMNxV5i-KsN",
        "colab_type": "code",
        "colab": {}
      },
      "source": [
        "class MaskedLinear(nn.Linear):\n",
        "  \"\"\"A Linear layer with masks that turn off some of the layer's weights.\"\"\"\n",
        "\n",
        "  def __init__(self, in_features, out_features, bias=True):\n",
        "    super().__init__(in_features, out_features, bias)\n",
        "    self.register_buffer('mask', torch.ones((out_features, in_features)))\n",
        "\n",
        "  def set_mask(self, mask):\n",
        "    self.mask.data.copy_(mask)\n",
        "\n",
        "  def forward(self, x):\n",
        "    return F.linear(x, self.weight * self.mask, self.bias)\n",
        "\n",
        "\n",
        "class MADE(nn.Module):\n",
        "  \"\"\"Implementation of the Masked Autoencoder Distribution Estimator (MADE).\n",
        "\n",
        "  MADE is a regular, fully-connected autoencoder with a connectivity pattern \n",
        "  that respects autoregressive constraints, i.e., for any ordering of the \n",
        "  inputs, each input is constructed only from the previous inputs. This property \n",
        "  allows MADE to model P(X) by decomposing it as the product p(x_i | x_{j<i}).\n",
        "  Interestingly, this means that MADE can turn any regular autoencoder into a \n",
        "  powerful generative model.\n",
        "\n",
        "  For full details, see the paper by Germain et al. (2015).\n",
        "  \"\"\"\n",
        "\n",
        "  def __init__(self, input_dim, hidden_dims=None, n_masks=1):\n",
        "    \"\"\"Initializes a new MADE instance.\n",
        "    \n",
        "    Args:\n",
        "      input_dim: The dimensionality of the input.\n",
        "      hidden_dims: A list containing the number of units for each hidden layer.\n",
        "      n_masks: The total number of distinct masks to use during training/eval.\n",
        "    \"\"\"\n",
        "    super().__init__()\n",
        "    self._input_dim = input_dim\n",
        "    self._dims = [self._input_dim] + (hidden_dims or []) + [self._input_dim]\n",
        "    self._n_masks = n_masks\n",
        "    self._mask_seed = 0\n",
        "\n",
        "    layers = []\n",
        "    for i in range(len(self._dims) - 1):\n",
        "      in_dim, out_dim = self._dims[i], self._dims[i + 1]\n",
        "      layers.append(MaskedLinear(in_dim, out_dim))\n",
        "      layers.append(nn.ReLU())\n",
        "    layers[-1] = nn.Sigmoid()  # Output is binary. \n",
        "    self._net = nn.Sequential(*layers)\n",
        "\n",
        "  def _sample_masks(self):\n",
        "    \"\"\"Samples a new set of autoregressive masks.\n",
        "\n",
        "    Only 'self._n_masks' distinct sets of masks are sampled after which the mask\n",
        "    sets are rotated through in the order in which they were sampled. In \n",
        "    principle, it's possible to generate the masks once and cache them. However,\n",
        "    this can lead to memory issues for large 'self._n_masks' or models many\n",
        "    parameters. Finally, sampling the masks is not that computationally \n",
        "    expensive. \n",
        "\n",
        "    Returns:\n",
        "      A tuple of (masks, ordering). Ordering refers to the ordering of the \n",
        "        outputs since MADE is order agnostic.\n",
        "    \"\"\"\n",
        "    rng = np.random.RandomState(seed=self._mask_seed % self._n_masks)\n",
        "    self._mask_seed += 1\n",
        "\n",
        "    # Sample connectivity patterns.\n",
        "    conn = [rng.permutation(self._input_dim)]\n",
        "    for i, dim in enumerate(self._dims[1:-1]):\n",
        "      # NOTE(eugenhotaj): The dimensions in the paper are 1-indexed whereas \n",
        "      # arrays in Python are 0-indexed. Implementation adjusted accordingly. \n",
        "      low = 0 if i == 0 else np.min(conn[i - 1])\n",
        "      high = self._input_dim - 1\n",
        "      conn.append(rng.randint(low, high, size=dim))\n",
        "    conn.append(np.copy(conn[0]))\n",
        "\n",
        "    # Create masks.\n",
        "    masks = [conn[i - 1][None, :] <= conn[i][:, None] \n",
        "             for i in range(1, len(conn) - 1 )]\n",
        "    masks.append(conn[-2][None, :] < conn[-1][:, None])\n",
        "\n",
        "    return [torch.from_numpy(mask.astype(np.uint8)) for mask in masks], conn[-1]\n",
        "\n",
        "  def _forward(self, x, masks): \n",
        "    layers = [\n",
        "      layer for layer in self._net.modules() if isinstance(layer, MaskedLinear)]\n",
        "    for layer, mask in zip(layers, masks):\n",
        "      layer.set_mask(mask)\n",
        "    return self._net(x)\n",
        "\n",
        "  def forward(self, x):\n",
        "    \"\"\"Computes a forward pass.\"\"\"\n",
        "    masks, _ = self._sample_masks()\n",
        "    return self._forward(x, masks)\n",
        "\n",
        "  def sample(self, conditioned_on=None):\n",
        "    \"\"\"Samples a new image.\n",
        "    \n",
        "    Args:\n",
        "      conditioned_on: An (optional) image to condition samples on. Only \n",
        "        dimensions with values < 0 will be sampled. For example, if \n",
        "        conditioned_on[i] = -1, then output[i] will be sampled conditioned on\n",
        "        dimensions j < i. If 'None', an unconditional sample will be generated.\n",
        "    \"\"\"\n",
        "    with torch.no_grad():\n",
        "      if conditioned_on is None:\n",
        "        device = next(self.parameters()).device\n",
        "        conditioned_on = (torch.ones((1, self._input_dim)) * - 1).to(device)\n",
        "      else:\n",
        "        conditioned_on = conditioned_on.clone()\n",
        "\n",
        "      masks, ordering = self._sample_masks()\n",
        "      ordering = np.argsort(ordering)\n",
        "      for dim in ordering:\n",
        "        out = self._forward(conditioned_on, masks)[:, dim]\n",
        "        out = distributions.Bernoulli(probs=out).sample()\n",
        "        conditioned_on[:, dim] = torch.where(\n",
        "            conditioned_on[:, dim] < 0, out, conditioned_on[:, dim])\n",
        "      return conditioned_on"
      ],
      "execution_count": 81,
      "outputs": []
    },
    {
      "cell_type": "code",
      "metadata": {
        "id": "umq315H3vvs6",
        "colab_type": "code",
        "colab": {
          "base_uri": "https://localhost:8080/",
          "height": 867
        },
        "outputId": "90d32ae7-b093-49a2-f65c-6f0dda2f2709"
      },
      "source": [
        "INPUT_SIZE = 784\n",
        "HIDDEN_SIZES = [8000]\n",
        "N_MASKS = 1\n",
        "N_EPOCHS = 50\n",
        "\n",
        "model = MADE(INPUT_SIZE, HIDDEN_SIZES, N_MASKS).to(colab_utils.get_device())\n",
        "optimizer = optim.Adam(model.parameters())\n",
        "bce_loss_fn = nn.BCELoss(reduction='none')\n",
        "loss_fn = lambda x, y, preds: bce_loss_fn(preds, x).sum(dim=1).mean()\n",
        "\n",
        "train_losses, eval_losses = colab_utils.train_andor_evaluate(\n",
        "    model, \n",
        "    loss_fn, \n",
        "    optimizer=optimizer, \n",
        "    n_epochs=N_EPOCHS, \n",
        "    train_loader=train_loader,\n",
        "    eval_loader=test_loader,\n",
        "    device=colab_utils.get_device())"
      ],
      "execution_count": 89,
      "outputs": [
        {
          "output_type": "stream",
          "text": [
            "[1 | 3676]: train_loss=171.70112907714844 eval_loss=116.22085223388672\n",
            "[2 | 3688]: train_loss=108.86370039876302 eval_loss=102.54329061279297\n",
            "[3 | 3731]: train_loss=100.75758192545572 eval_loss=97.8593831665039\n",
            "[4 | 3674]: train_loss=97.12816224772135 eval_loss=95.1466417602539\n",
            "[5 | 3764]: train_loss=94.96368619791667 eval_loss=93.45696756591796\n",
            "[6 | 3819]: train_loss=93.42262976074218 eval_loss=92.13479854736327\n",
            "[7 | 3746]: train_loss=92.23209170735677 eval_loss=91.31476876220704\n",
            "[8 | 3739]: train_loss=91.3007548828125 eval_loss=90.55763106689453\n",
            "[9 | 3802]: train_loss=90.52569490559895 eval_loss=89.86064848632813\n",
            "[10 | 3739]: train_loss=89.80922435302735 eval_loss=89.46402545166016\n",
            "[11 | 3740]: train_loss=89.2541927734375 eval_loss=88.7459870727539\n",
            "[12 | 3702]: train_loss=88.76606447347005 eval_loss=88.37559586181641\n",
            "[13 | 3755]: train_loss=88.28206087239583 eval_loss=88.15163110351563\n",
            "[14 | 3736]: train_loss=87.93153051757812 eval_loss=87.70669146728515\n",
            "[15 | 3786]: train_loss=87.64185387369791 eval_loss=87.63203186035156\n",
            "[16 | 3714]: train_loss=87.2608396850586 eval_loss=87.22815913085938\n",
            "[17 | 3737]: train_loss=87.01455872395833 eval_loss=87.1478185546875\n",
            "[18 | 3730]: train_loss=86.74055347086589 eval_loss=86.88181623535156\n",
            "[19 | 3677]: train_loss=86.56379860432942 eval_loss=86.79515531005859\n",
            "[20 | 3712]: train_loss=86.30757582600911 eval_loss=86.55068109130859\n",
            "[21 | 3662]: train_loss=86.0881914469401 eval_loss=86.34237823486328\n",
            "[22 | 3745]: train_loss=85.95822053222656 eval_loss=86.36291318359375\n",
            "[23 | 3624]: train_loss=85.75894788411458 eval_loss=86.16094688720703\n",
            "[24 | 3622]: train_loss=85.58695712076823 eval_loss=86.16722951660157\n",
            "[25 | 3684]: train_loss=85.46946678466797 eval_loss=86.00976483154297\n",
            "[26 | 3714]: train_loss=85.25982443033854 eval_loss=85.8502863647461\n",
            "[27 | 3612]: train_loss=85.15710344238282 eval_loss=85.84043739013671\n",
            "[28 | 3773]: train_loss=85.04930779622396 eval_loss=85.70142576904297\n",
            "[29 | 3723]: train_loss=84.90309944254557 eval_loss=85.6751323852539\n",
            "[30 | 3609]: train_loss=84.77434651285807 eval_loss=85.57515617675782\n",
            "[31 | 3721]: train_loss=84.72573286946614 eval_loss=85.56647039794922\n",
            "[32 | 3748]: train_loss=84.5578912109375 eval_loss=85.50515007324219\n",
            "[33 | 3709]: train_loss=84.50796077473959 eval_loss=85.5503139038086\n",
            "[34 | 3748]: train_loss=84.33492093505859 eval_loss=85.43773060302735\n",
            "[35 | 3731]: train_loss=84.33065042317709 eval_loss=85.29123443603515\n",
            "[36 | 3720]: train_loss=84.27815942382813 eval_loss=85.34316022949218\n",
            "[37 | 3730]: train_loss=84.14424106445313 eval_loss=85.2480443725586\n",
            "[38 | 3702]: train_loss=84.09278579915365 eval_loss=85.15451245117187\n",
            "[39 | 3773]: train_loss=83.99720155436198 eval_loss=85.1662617553711\n",
            "[40 | 3740]: train_loss=83.95196221516927 eval_loss=85.04018278808594\n",
            "[41 | 3773]: train_loss=83.86919420572917 eval_loss=85.17491690673828\n",
            "[42 | 3793]: train_loss=83.7655774576823 eval_loss=84.96589217529296\n",
            "[43 | 3586]: train_loss=83.69349010416667 eval_loss=85.01222084960938\n",
            "[44 | 3606]: train_loss=83.6688592203776 eval_loss=85.00650313720703\n",
            "[45 | 3797]: train_loss=83.60302230631511 eval_loss=84.95995046386719\n",
            "[46 | 3670]: train_loss=83.51758476969401 eval_loss=84.9349640625\n",
            "[47 | 3709]: train_loss=83.47067482096354 eval_loss=84.85277254638672\n",
            "[48 | 3742]: train_loss=83.37174724121094 eval_loss=85.00218582763672\n",
            "[49 | 3813]: train_loss=83.3924091389974 eval_loss=84.88227719726562\n",
            "[50 | 3752]: train_loss=83.2647914428711 eval_loss=84.86625444335938\n"
          ],
          "name": "stdout"
        }
      ]
    },
    {
      "cell_type": "code",
      "metadata": {
        "id": "dKLxqIdv2E3Y",
        "colab_type": "code",
        "colab": {
          "base_uri": "https://localhost:8080/",
          "height": 497
        },
        "outputId": "a0d8594f-5a74-4995-9181-65fdb774b56b"
      },
      "source": [
        "epochs = len(train_losses)\n",
        "plt.figure(figsize=(8, 8))\n",
        "plt.plot(range(epochs), train_losses)\n",
        "plt.plot(range(epochs), eval_losses)\n",
        "plt.legend(['train', 'test'])\n",
        "plt.xlabel('epoch')\n",
        "plt.ylabel('loss')\n",
        "plt.show()"
      ],
      "execution_count": 90,
      "outputs": [
        {
          "output_type": "display_data",
          "data": {
            "image/png": "[encoded data removed]",
            "text/plain": [
              "<Figure size 576x576 with 1 Axes>"
            ]
          },
          "metadata": {
            "tags": [],
            "needs_background": "light"
          }
        }
      ]
    },
    {
      "cell_type": "code",
      "metadata": {
        "id": "hp5drHYdJhGe",
        "colab_type": "code",
        "colab": {}
      },
      "source": [
        "def show_random(model, dataset):\n",
        "  idx = np.random.choice(len(dataset))\n",
        "  img = dataset[idx][0].reshape(1, -1).to(colab_utils.get_device())\n",
        "  img_hat = model(img)\n",
        "  colab_utils.imshow(img.reshape(28, 28))\n",
        "  colab_utils.imshow(img_hat.reshape(28, 28))\n",
        "\n",
        "\n",
        "def sample(model):\n",
        "  colab_utils.imshow(model.sample().reshape(28, 28))\n",
        "\n",
        "\n",
        "def conditional_sample_random(model, dataset):\n",
        "  idx = np.random.choice(len(dataset))\n",
        "  img = dataset[idx][0].reshape(1, -1).to(colab_utils.get_device())\n",
        "  img[0, 300:600] = -1\n",
        "  colab_utils.imshow(img.reshape(28, 28))\n",
        "  plt.show()\n",
        "  print(\"Conditional Samples:\")\n",
        "  for i in range(5):\n",
        "    img_hat = model.sample(img)\n",
        "    colab_utils.imshow(img_hat.reshape(28, 28))"
      ],
      "execution_count": 91,
      "outputs": []
    },
    {
      "cell_type": "code",
      "metadata": {
        "id": "oe7SkYyP9eGi",
        "colab_type": "code",
        "colab": {
          "base_uri": "https://localhost:8080/",
          "height": 479
        },
        "outputId": "37f30f42-5d46-4aaa-8058-72c0cb413e3d"
      },
      "source": [
        "show_random(model, test_loader.dataset)"
      ],
      "execution_count": 92,
      "outputs": [
        {
          "output_type": "display_data",
          "data": {
            "image/png": "[encoded data removed]",
            "text/plain": [
              "<Figure size 432x288 with 1 Axes>"
            ]
          },
          "metadata": {
            "tags": [],
            "needs_background": "light"
          }
        },
        {
          "output_type": "display_data",
          "data": {
            "image/png": "[encoded data removed]",
            "text/plain": [
              "<Figure size 432x288 with 1 Axes>"
            ]
          },
          "metadata": {
            "tags": [],
            "needs_background": "light"
          }
        }
      ]
    },
    {
      "cell_type": "code",
      "metadata": {
        "id": "MjgedWeLWSHa",
        "colab_type": "code",
        "colab": {
          "base_uri": "https://localhost:8080/",
          "height": 248
        },
        "outputId": "f8538022-48dd-460d-e561-822ceba3493c"
      },
      "source": [
        "sample(model)"
      ],
      "execution_count": 93,
      "outputs": [
        {
          "output_type": "display_data",
          "data": {
            "image/png": "[encoded data removed]",
            "text/plain": [
              "<Figure size 432x288 with 1 Axes>"
            ]
          },
          "metadata": {
            "tags": [],
            "needs_background": "light"
          }
        }
      ]
    },
    {
      "cell_type": "code",
      "metadata": {
        "id": "7shEvYcMTw5F",
        "colab_type": "code",
        "colab": {
          "base_uri": "https://localhost:8080/",
          "height": 1000
        },
        "outputId": "cdc800ec-e34c-4867-c091-9b4f1a80ae72"
      },
      "source": [
        "conditional_sample_random(model, test_loader.dataset)"
      ],
      "execution_count": 97,
      "outputs": [
        {
          "output_type": "display_data",
          "data": {
            "image/png": "[encoded data removed]",
            "text/plain": [
              "<Figure size 432x288 with 1 Axes>"
            ]
          },
          "metadata": {
            "tags": [],
            "needs_background": "light"
          }
        },
        {
          "output_type": "stream",
          "text": [
            "Conditional Samples:\n"
          ],
          "name": "stdout"
        },
        {
          "output_type": "display_data",
          "data": {
            "image/png": "[encoded data removed]",
            "text/plain": [
              "<Figure size 432x288 with 1 Axes>"
            ]
          },
          "metadata": {
            "tags": [],
            "needs_background": "light"
          }
        },
        {
          "output_type": "display_data",
          "data": {
            "image/png": "[encoded data removed]",
            "text/plain": [
              "<Figure size 432x288 with 1 Axes>"
            ]
          },
          "metadata": {
            "tags": [],
            "needs_background": "light"
          }
        },
        {
          "output_type": "display_data",
          "data": {
            "image/png": "[encoded data removed]",
            "text/plain": [
              "<Figure size 432x288 with 1 Axes>"
            ]
          },
          "metadata": {
            "tags": [],
            "needs_background": "light"
          }
        },
        {
          "output_type": "display_data",
          "data": {
            "image/png": "[encoded data removed]",
            "text/plain": [
              "<Figure size 432x288 with 1 Axes>"
            ]
          },
          "metadata": {
            "tags": [],
            "needs_background": "light"
          }
        },
        {
          "output_type": "display_data",
          "data": {
            "image/png": "[encoded data removed]",
            "text/plain": [
              "<Figure size 432x288 with 1 Axes>"
            ]
          },
          "metadata": {
            "tags": [],
            "needs_background": "light"
          }
        }
      ]
    }
  ]
}