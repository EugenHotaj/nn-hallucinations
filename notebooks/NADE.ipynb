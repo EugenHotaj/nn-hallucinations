{
  "nbformat": 4,
  "nbformat_minor": 0,
  "metadata": {
    "colab": {
      "name": "NADE.ipynb",
      "provenance": [],
      "authorship_tag": "ABX9TyMIpG+/iE9ITMmJ75CAUHcU",
      "include_colab_link": true
    },
    "kernelspec": {
      "name": "python3",
      "display_name": "Python 3"
    },
    "accelerator": "GPU"
  },
  "cells": [
    {
      "cell_type": "markdown",
      "metadata": {
        "id": "view-in-github",
        "colab_type": "text"
      },
      "source": [
        "<a href=\"https://colab.research.google.com/github/EugenHotaj/nn-hallucinations/blob/master/NADE.ipynb\" target=\"_parent\"><img src=\"https://colab.research.google.com/assets/colab-badge.svg\" alt=\"Open In Colab\"/></a>"
      ]
    },
    {
      "cell_type": "code",
      "metadata": {
        "id": "cTESiyxn8VX3",
        "colab_type": "code",
        "outputId": "6e43f107-4af8-4364-894c-d1ad5f6bec65",
        "colab": {
          "base_uri": "https://localhost:8080/",
          "height": 34
        }
      },
      "source": [
        "!git clone https://www.github.com/EugenHotaj/nn-hallucinations nn_hallucinations"
      ],
      "execution_count": 33,
      "outputs": [
        {
          "output_type": "stream",
          "text": [
            "fatal: destination path 'nn_hallucinations' already exists and is not an empty directory.\n"
          ],
          "name": "stdout"
        }
      ]
    },
    {
      "cell_type": "code",
      "metadata": {
        "id": "r65ruYyo1Hx_",
        "colab_type": "code",
        "colab": {}
      },
      "source": [
        "import matplotlib.pyplot as plt\n",
        "from nn_hallucinations import colab_utils\n",
        "import numpy as np\n",
        "import torch\n",
        "from torch import distributions \n",
        "from torch import nn\n",
        "from torch import optim\n",
        "from torch.utils import data\n",
        "import torchvision\n",
        "from torchvision import transforms\n",
        "from torchvision import datasets"
      ],
      "execution_count": 0,
      "outputs": []
    },
    {
      "cell_type": "code",
      "metadata": {
        "id": "aVZCCtQT8Men",
        "colab_type": "code",
        "colab": {}
      },
      "source": [
        "BATCH_SIZE = 512\n",
        "TRANSFORM = transforms.Compose([\n",
        "    transforms.ToTensor(),\n",
        "    lambda x: x.view(-1),  # Flatten.\n",
        "    # NOTE(eugenhotaj): The binarization transform randomly samples a new digit\n",
        "    # each time it is called. This means that each example will be slightly \n",
        "    # different on each epoch, acting as a form of data augmentation. This (\n",
        "    # along with a few other tweaks) leads to lower loss than reported in the\n",
        "    # original NADE paper.\n",
        "    lambda x: distributions.Bernoulli(probs=x).sample()])\n",
        "\n",
        "train_loader = data.DataLoader(\n",
        "    datasets.MNIST('../data', train=True, download=True, transform=TRANSFORM),\n",
        "    batch_size=BATCH_SIZE, \n",
        "    shuffle=True)\n",
        "test_loader = data.DataLoader(\n",
        "    datasets.MNIST('../data', train=False, download=True,transform=TRANSFORM),\n",
        "    batch_size=BATCH_SIZE*2)"
      ],
      "execution_count": 0,
      "outputs": []
    },
    {
      "cell_type": "code",
      "metadata": {
        "id": "jOMNxV5i-KsN",
        "colab_type": "code",
        "colab": {}
      },
      "source": [
        "class NADE(nn.Module):\n",
        "  \"\"\"Implementation of the Neural Autoregressive Distribution Estimator (NADE).\n",
        "\n",
        "  NADE can be viewed as a one hidden layer autoencoder trained with a \"language\n",
        "  model criterion\", i.e. trained to approximate p(x_i | x_{j<i}). The \n",
        "  connectivity pattern of NADE is specialized to enable this training criterion.\n",
        "  \n",
        "  For full details, see the paper by Larochelle & Murray (2011).\n",
        "  \"\"\"\n",
        "\n",
        "  def __init__(self, input_dim, hidden_dim):\n",
        "    \"\"\"Initializes a new NADE instance.\n",
        "\n",
        "    Args:\n",
        "      input_dim: The dimension of the input.\n",
        "      hidden_dim: The dimmension of the hidden layer. NADE only supports one\n",
        "        hidden layer.\n",
        "    \"\"\"\n",
        "    super().__init__()\n",
        "    self._input_dim = input_dim\n",
        "    self._hidden_dim = hidden_dim\n",
        "    self.params = nn.ParameterDict({\n",
        "      'in_W': nn.Parameter(torch.zeros(self._hidden_dim, self._input_dim)),\n",
        "      'in_b': nn.Parameter(torch.zeros(self._hidden_dim,)),\n",
        "      'h_W': nn.Parameter(torch.zeros(self._input_dim, self._hidden_dim)),\n",
        "      'h_b': nn.Parameter(torch.zeros(self._input_dim,)),\n",
        "    })\n",
        "    nn.init.kaiming_normal_(self.params['in_W'])\n",
        "    nn.init.kaiming_normal_(self.params['h_W'])\n",
        "\n",
        "  def _forward(self, x):\n",
        "    \"\"\"Computes a forward pass and samples a new output.\n",
        "    \n",
        "    Returns:\n",
        "      (p_hat, x_hat) where p_hat is the probability distribution over dimensions\n",
        "      and x_hat *might* be sampled from p_hat. See the 'sample' method for\n",
        "      specifics of sampling.\n",
        "    \"\"\"\n",
        "    in_W, in_b = self.params['in_W'], self.params['in_b']\n",
        "    h_W, h_b = self.params['h_W'], self.params['h_b']\n",
        "    batch_size = 1 if x is None else x.shape[0] \n",
        "\n",
        "    p_hat = []\n",
        "    x_hat = []\n",
        "    # Only the bias is used to compute the first hidden unit so we must \n",
        "    # replicate it to account for the batch size.\n",
        "    a = in_b.expand(batch_size, -1)\n",
        "    for i in range(self._input_dim):\n",
        "      h = torch.relu(a)\n",
        "      p_i = torch.sigmoid(h_b[i:i+1] + h @ h_W[i:i+1, :].t())\n",
        "      p_hat.append(p_i)\n",
        "\n",
        "      # Sample 'x' at dimension 'i' if it is not given.\n",
        "      x_i = x[:, i:i+1]\n",
        "      x_i = torch.where(x_i < 0, \n",
        "                        distributions.Bernoulli(probs=p_i).sample(),\n",
        "                        x_i)\n",
        "      x_hat.append(x_i)\n",
        "\n",
        "      # We do not need to add in_b[i:i+1] when computing the other hidden units\n",
        "      # since it was already added when computing the first hidden unit. \n",
        "      a = a + x_i @ in_W[:, i:i+1].t()\n",
        "    return torch.cat(p_hat, dim=1), torch.cat(x_hat, dim=1) if x_hat else []\n",
        "\n",
        "  def forward(self, x):\n",
        "    \"\"\"Computes a forward pass.\"\"\"\n",
        "    return self._forward(x)[0]\n",
        "\n",
        "  def sample(self, conditioned_on=None):\n",
        "    \"\"\"Samples a new image.\n",
        "    \n",
        "    Args:\n",
        "      conditioned_on: An (optional) image to condition samples on. Only \n",
        "        dimensions with values < 0 will be sampled. For example, if \n",
        "        conditioned_on[i] = -1, then output[i] will be sampled conditioned on\n",
        "        dimensions j < i. If 'None', an unconditional sample will be generated.\n",
        "    \"\"\"\n",
        "    with torch.no_grad():\n",
        "      if conditioned_on is None:\n",
        "        device = next(self.parameters()).device\n",
        "        conditioned_on = (torch.ones((1, self._input_dim)) * -1).to(device)\n",
        "      return self._forward(conditioned_on)[1]"
      ],
      "execution_count": 0,
      "outputs": []
    },
    {
      "cell_type": "code",
      "metadata": {
        "id": "umq315H3vvs6",
        "colab_type": "code",
        "outputId": "2fd1228a-7a64-4bdd-8790-aedf49441fd6",
        "colab": {
          "base_uri": "https://localhost:8080/",
          "height": 867
        }
      },
      "source": [
        "INPUT_SIZE = 784\n",
        "HIDDEN_SIZE = 500\n",
        "N_EPOCHS = 50\n",
        "\n",
        "model = NADE(INPUT_SIZE, HIDDEN_SIZE).to(colab_utils.get_device())\n",
        "optimizer = optim.Adam(model.parameters())\n",
        "bce_loss_fn = nn.BCELoss(reduction='none')\n",
        "loss_fn = lambda x, y, preds: bce_loss_fn(preds, x).sum(dim=1).mean()\n",
        "\n",
        "train_losses, eval_losses = colab_utils.train_andor_evaluate(\n",
        "    model,  \n",
        "    loss_fn,\n",
        "    optimizer=optimizer,\n",
        "    train_loader=train_loader,\n",
        "    eval_loader=test_loader,\n",
        "    n_epochs=N_EPOCHS,\n",
        "    device=colab_utils.get_device())"
      ],
      "execution_count": 37,
      "outputs": [
        {
          "output_type": "stream",
          "text": [
            "[1]: train_loss=214.47838545735678 eval_loss=123.40267498779296\n",
            "[2]: train_loss=113.16199818115234 eval_loss=104.80730128173828\n",
            "[3]: train_loss=102.54870853271484 eval_loss=99.14672703857421\n",
            "[4]: train_loss=98.54365208333333 eval_loss=96.43514365234375\n",
            "[5]: train_loss=96.29144740397136 eval_loss=94.6224109741211\n",
            "[6]: train_loss=94.8628626139323 eval_loss=93.61016378173828\n",
            "[7]: train_loss=93.82354176839193 eval_loss=92.66889282226562\n",
            "[8]: train_loss=93.05385642903646 eval_loss=92.15790789794922\n",
            "[9]: train_loss=92.31129790445964 eval_loss=91.4070034790039\n",
            "[10]: train_loss=91.7283138712565 eval_loss=91.05392630615235\n",
            "[11]: train_loss=91.29113751627604 eval_loss=90.58937724609375\n",
            "[12]: train_loss=90.843610550944 eval_loss=90.17885793457032\n",
            "[13]: train_loss=90.39923013509114 eval_loss=89.90242333984375\n",
            "[14]: train_loss=90.08089680989583 eval_loss=89.57236571044922\n",
            "[15]: train_loss=89.78214048258464 eval_loss=89.21473328857422\n",
            "[16]: train_loss=89.4836215209961 eval_loss=88.95697889404296\n",
            "[17]: train_loss=89.18716201985677 eval_loss=88.88612158203125\n",
            "[18]: train_loss=88.93775994466147 eval_loss=88.67218653564453\n",
            "[19]: train_loss=88.75836216227214 eval_loss=88.39748723144531\n",
            "[20]: train_loss=88.52915045572917 eval_loss=88.28290299072266\n",
            "[21]: train_loss=88.33712079264323 eval_loss=88.144112890625\n",
            "[22]: train_loss=88.13399141031901 eval_loss=87.86627231445313\n",
            "[23]: train_loss=87.92220906982422 eval_loss=87.649078125\n",
            "[24]: train_loss=87.80568775227864 eval_loss=87.59922318115234\n",
            "[25]: train_loss=87.65643320719401 eval_loss=87.44829154052735\n",
            "[26]: train_loss=87.4904982421875 eval_loss=87.39819539794922\n",
            "[27]: train_loss=87.32466907958984 eval_loss=87.32047889404296\n",
            "[28]: train_loss=87.20716126708984 eval_loss=87.09839995117187\n",
            "[29]: train_loss=87.13535996500651 eval_loss=87.01128409423828\n",
            "[30]: train_loss=87.0112048828125 eval_loss=87.0074837524414\n",
            "[31]: train_loss=86.8359717569987 eval_loss=86.965693359375\n",
            "[32]: train_loss=86.81035524495442 eval_loss=86.77596298828125\n",
            "[33]: train_loss=86.70610901285808 eval_loss=86.71152977294922\n",
            "[34]: train_loss=86.59648236490885 eval_loss=86.39174284667969\n",
            "[35]: train_loss=86.46760647379557 eval_loss=86.55107747802734\n",
            "[36]: train_loss=86.3630263671875 eval_loss=86.47675942382813\n",
            "[37]: train_loss=86.33077354329427 eval_loss=86.36631170654297\n",
            "[38]: train_loss=86.16094903971354 eval_loss=86.35804411621093\n",
            "[39]: train_loss=86.14324943847656 eval_loss=86.34705145263672\n",
            "[40]: train_loss=86.10716168619791 eval_loss=86.22690535888673\n",
            "[41]: train_loss=85.98014871826172 eval_loss=86.14026915283203\n",
            "[42]: train_loss=85.90348235270183 eval_loss=86.15729676513672\n",
            "[43]: train_loss=85.88916178385416 eval_loss=86.15925783691407\n",
            "[44]: train_loss=85.80918186035156 eval_loss=86.06470740966797\n",
            "[45]: train_loss=85.75566215820312 eval_loss=85.96950009765625\n",
            "[46]: train_loss=85.66147312825521 eval_loss=85.94398316650391\n",
            "[47]: train_loss=85.56074237874348 eval_loss=85.85459427490234\n",
            "[48]: train_loss=85.52209822998047 eval_loss=85.83585943603515\n",
            "[49]: train_loss=85.49918697102865 eval_loss=85.81094438476562\n",
            "[50]: train_loss=85.45891901041666 eval_loss=85.64859304199219\n"
          ],
          "name": "stdout"
        }
      ]
    },
    {
      "cell_type": "code",
      "metadata": {
        "id": "dKLxqIdv2E3Y",
        "colab_type": "code",
        "outputId": "0bb3be68-cbdc-4013-c897-8c0f50e96f28",
        "colab": {
          "base_uri": "https://localhost:8080/",
          "height": 498
        }
      },
      "source": [
        "epochs = len(train_losses)\n",
        "plt.figure(figsize=(8, 8))\n",
        "plt.plot(range(epochs), train_losses)\n",
        "plt.plot(range(epochs), eval_losses)\n",
        "plt.legend(['train', 'test'])\n",
        "plt.xlabel('epoch')\n",
        "plt.ylabel('loss')\n",
        "plt.show()"
      ],
      "execution_count": 38,
      "outputs": [
        {
          "output_type": "display_data",
          "data": {
            "image/png": "[encoded data removed]",
            "text/plain": [
              "<Figure size 576x576 with 1 Axes>"
            ]
          },
          "metadata": {
            "tags": [],
            "needs_background": "light"
          }
        }
      ]
    },
    {
      "cell_type": "code",
      "metadata": {
        "id": "hp5drHYdJhGe",
        "colab_type": "code",
        "colab": {}
      },
      "source": [
        "def show_random(model, dataset):\n",
        "  idx = np.random.choice(len(dataset))\n",
        "  img = dataset[idx][0].reshape(1, -1).to(colab_utils.get_device())\n",
        "  img_hat = model(img)\n",
        "  colab_utils.imshow(img.reshape(28, 28))\n",
        "  colab_utils.imshow(img_hat.reshape(28, 28))"
      ],
      "execution_count": 0,
      "outputs": []
    },
    {
      "cell_type": "code",
      "metadata": {
        "id": "Pg96rjPqLK8n",
        "colab_type": "code",
        "outputId": "0a1c17c8-559a-4efa-d4e4-7d7805cf4f60",
        "colab": {
          "base_uri": "https://localhost:8080/",
          "height": 479
        }
      },
      "source": [
        "show_random(model, test_loader.dataset)"
      ],
      "execution_count": 40,
      "outputs": [
        {
          "output_type": "display_data",
          "data": {
            "image/png": "[encoded data removed]",
            "text/plain": [
              "<Figure size 432x288 with 1 Axes>"
            ]
          },
          "metadata": {
            "tags": [],
            "needs_background": "light"
          }
        },
        {
          "output_type": "display_data",
          "data": {
            "image/png": "[encoded data removed]",
            "text/plain": [
              "<Figure size 432x288 with 1 Axes>"
            ]
          },
          "metadata": {
            "tags": [],
            "needs_background": "light"
          }
        }
      ]
    },
    {
      "cell_type": "code",
      "metadata": {
        "id": "wz-HkuMg9V8S",
        "colab_type": "code",
        "outputId": "7bb6533a-2c36-4f78-8678-1f09023d3db6",
        "colab": {
          "base_uri": "https://localhost:8080/",
          "height": 248
        }
      },
      "source": [
        "colab_utils.imshow(model.sample().reshape(28, 28))"
      ],
      "execution_count": 42,
      "outputs": [
        {
          "output_type": "display_data",
          "data": {
            "image/png": "[encoded data removed]",
            "text/plain": [
              "<Figure size 432x288 with 1 Axes>"
            ]
          },
          "metadata": {
            "tags": [],
            "needs_background": "light"
          }
        }
      ]
    },
    {
      "cell_type": "code",
      "metadata": {
        "id": "yG6o5ySz7RRm",
        "colab_type": "code",
        "colab": {}
      },
      "source": [
        "def conditional_sample_random(model, dataset):\n",
        "  idx = np.random.choice(len(dataset))\n",
        "  img = dataset[idx][0].reshape(1, -1).to(colab_utils.get_device())\n",
        "  img[0, 300:600] = -1\n",
        "  colab_utils.imshow(img.reshape(28, 28))\n",
        "  plt.show()\n",
        "  print(\"Conditional Samples:\")\n",
        "  for i in range(5):\n",
        "    img_hat = model.sample(img)\n",
        "    colab_utils.imshow(img_hat.reshape(28, 28))"
      ],
      "execution_count": 0,
      "outputs": []
    },
    {
      "cell_type": "code",
      "metadata": {
        "id": "YFJbwIf2_4Ji",
        "colab_type": "code",
        "outputId": "40986ab9-be1b-43fd-e720-bc239167debf",
        "colab": {
          "base_uri": "https://localhost:8080/",
          "height": 1000
        }
      },
      "source": [
        "conditional_sample_random(model, test_loader.dataset)"
      ],
      "execution_count": 44,
      "outputs": [
        {
          "output_type": "display_data",
          "data": {
            "image/png": "[encoded data removed]",
            "text/plain": [
              "<Figure size 432x288 with 1 Axes>"
            ]
          },
          "metadata": {
            "tags": [],
            "needs_background": "light"
          }
        },
        {
          "output_type": "stream",
          "text": [
            "Conditional Samples:\n"
          ],
          "name": "stdout"
        },
        {
          "output_type": "display_data",
          "data": {
            "image/png": "[encoded data removed]",
            "text/plain": [
              "<Figure size 432x288 with 1 Axes>"
            ]
          },
          "metadata": {
            "tags": [],
            "needs_background": "light"
          }
        },
        {
          "output_type": "display_data",
          "data": {
            "image/png": "[encoded data removed]",
            "text/plain": [
              "<Figure size 432x288 with 1 Axes>"
            ]
          },
          "metadata": {
            "tags": [],
            "needs_background": "light"
          }
        },
        {
          "output_type": "display_data",
          "data": {
            "image/png": "[encoded data removed]",
            "text/plain": [
              "<Figure size 432x288 with 1 Axes>"
            ]
          },
          "metadata": {
            "tags": [],
            "needs_background": "light"
          }
        },
        {
          "output_type": "display_data",
          "data": {
            "image/png": "[encoded data removed]",
            "text/plain": [
              "<Figure size 432x288 with 1 Axes>"
            ]
          },
          "metadata": {
            "tags": [],
            "needs_background": "light"
          }
        },
        {
          "output_type": "display_data",
          "data": {
            "image/png": "[encoded data removed]",
            "text/plain": [
              "<Figure size 432x288 with 1 Axes>"
            ]
          },
          "metadata": {
            "tags": [],
            "needs_background": "light"
          }
        }
      ]
    }
  ]
}