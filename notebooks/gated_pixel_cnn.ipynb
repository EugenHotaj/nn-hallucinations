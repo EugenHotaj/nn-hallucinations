{
  "nbformat": 4,
  "nbformat_minor": 0,
  "metadata": {
    "colab": {
      "name": "gated_pixel_cnn.ipynb",
      "provenance": [],
      "collapsed_sections": [],
      "authorship_tag": "ABX9TyP+wVfk/DG9C4Ku7ue2Mc7X",
      "include_colab_link": true
    },
    "kernelspec": {
      "name": "python3",
      "display_name": "Python 3"
    },
    "accelerator": "GPU",
    "widgets": {
      "application/vnd.jupyter.widget-state+json": {
        "fdcafe165b1c434785a521f10072212f": {
          "model_module": "@jupyter-widgets/controls",
          "model_name": "HBoxModel",
          "state": {
            "_view_name": "HBoxView",
            "_dom_classes": [],
            "_model_name": "HBoxModel",
            "_view_module": "@jupyter-widgets/controls",
            "_model_module_version": "1.5.0",
            "_view_count": null,
            "_view_module_version": "1.5.0",
            "box_style": "",
            "layout": "IPY_MODEL_5ada842c54bf42c2aafac23e9c3cd47b",
            "_model_module": "@jupyter-widgets/controls",
            "children": [
              "IPY_MODEL_c205bd956222493c873f8fd75f6d4d4d",
              "IPY_MODEL_6ae2305ee55a4bb49e4ed3fcd17b6314"
            ]
          }
        },
        "5ada842c54bf42c2aafac23e9c3cd47b": {
          "model_module": "@jupyter-widgets/base",
          "model_name": "LayoutModel",
          "state": {
            "_view_name": "LayoutView",
            "grid_template_rows": null,
            "right": null,
            "justify_content": null,
            "_view_module": "@jupyter-widgets/base",
            "overflow": null,
            "_model_module_version": "1.2.0",
            "_view_count": null,
            "flex_flow": null,
            "width": null,
            "min_width": null,
            "border": null,
            "align_items": null,
            "bottom": null,
            "_model_module": "@jupyter-widgets/base",
            "top": null,
            "grid_column": null,
            "overflow_y": null,
            "overflow_x": null,
            "grid_auto_flow": null,
            "grid_area": null,
            "grid_template_columns": null,
            "flex": null,
            "_model_name": "LayoutModel",
            "justify_items": null,
            "grid_row": null,
            "max_height": null,
            "align_content": null,
            "visibility": null,
            "align_self": null,
            "height": null,
            "min_height": null,
            "padding": null,
            "grid_auto_rows": null,
            "grid_gap": null,
            "max_width": null,
            "order": null,
            "_view_module_version": "1.2.0",
            "grid_template_areas": null,
            "object_position": null,
            "object_fit": null,
            "grid_auto_columns": null,
            "margin": null,
            "display": null,
            "left": null
          }
        },
        "c205bd956222493c873f8fd75f6d4d4d": {
          "model_module": "@jupyter-widgets/controls",
          "model_name": "FloatProgressModel",
          "state": {
            "_view_name": "ProgressView",
            "style": "IPY_MODEL_c194b4775d6b4ba1a61f688d3a1f80b8",
            "_dom_classes": [],
            "description": "",
            "_model_name": "FloatProgressModel",
            "bar_style": "success",
            "max": 1,
            "_view_module": "@jupyter-widgets/controls",
            "_model_module_version": "1.5.0",
            "value": 1,
            "_view_count": null,
            "_view_module_version": "1.5.0",
            "orientation": "horizontal",
            "min": 0,
            "description_tooltip": null,
            "_model_module": "@jupyter-widgets/controls",
            "layout": "IPY_MODEL_81ab1da4bb3142df90647abbee1fa8cd"
          }
        },
        "6ae2305ee55a4bb49e4ed3fcd17b6314": {
          "model_module": "@jupyter-widgets/controls",
          "model_name": "HTMLModel",
          "state": {
            "_view_name": "HTMLView",
            "style": "IPY_MODEL_2dbe59f469ad47e982a218996faec4eb",
            "_dom_classes": [],
            "description": "",
            "_model_name": "HTMLModel",
            "placeholder": "​",
            "_view_module": "@jupyter-widgets/controls",
            "_model_module_version": "1.5.0",
            "value": " 9920512/? [00:00&lt;00:00, 13788144.93it/s]",
            "_view_count": null,
            "_view_module_version": "1.5.0",
            "description_tooltip": null,
            "_model_module": "@jupyter-widgets/controls",
            "layout": "IPY_MODEL_3e32ee7eef08440bb30228b473d356f9"
          }
        },
        "c194b4775d6b4ba1a61f688d3a1f80b8": {
          "model_module": "@jupyter-widgets/controls",
          "model_name": "ProgressStyleModel",
          "state": {
            "_view_name": "StyleView",
            "_model_name": "ProgressStyleModel",
            "description_width": "initial",
            "_view_module": "@jupyter-widgets/base",
            "_model_module_version": "1.5.0",
            "_view_count": null,
            "_view_module_version": "1.2.0",
            "bar_color": null,
            "_model_module": "@jupyter-widgets/controls"
          }
        },
        "81ab1da4bb3142df90647abbee1fa8cd": {
          "model_module": "@jupyter-widgets/base",
          "model_name": "LayoutModel",
          "state": {
            "_view_name": "LayoutView",
            "grid_template_rows": null,
            "right": null,
            "justify_content": null,
            "_view_module": "@jupyter-widgets/base",
            "overflow": null,
            "_model_module_version": "1.2.0",
            "_view_count": null,
            "flex_flow": null,
            "width": null,
            "min_width": null,
            "border": null,
            "align_items": null,
            "bottom": null,
            "_model_module": "@jupyter-widgets/base",
            "top": null,
            "grid_column": null,
            "overflow_y": null,
            "overflow_x": null,
            "grid_auto_flow": null,
            "grid_area": null,
            "grid_template_columns": null,
            "flex": null,
            "_model_name": "LayoutModel",
            "justify_items": null,
            "grid_row": null,
            "max_height": null,
            "align_content": null,
            "visibility": null,
            "align_self": null,
            "height": null,
            "min_height": null,
            "padding": null,
            "grid_auto_rows": null,
            "grid_gap": null,
            "max_width": null,
            "order": null,
            "_view_module_version": "1.2.0",
            "grid_template_areas": null,
            "object_position": null,
            "object_fit": null,
            "grid_auto_columns": null,
            "margin": null,
            "display": null,
            "left": null
          }
        },
        "2dbe59f469ad47e982a218996faec4eb": {
          "model_module": "@jupyter-widgets/controls",
          "model_name": "DescriptionStyleModel",
          "state": {
            "_view_name": "StyleView",
            "_model_name": "DescriptionStyleModel",
            "description_width": "",
            "_view_module": "@jupyter-widgets/base",
            "_model_module_version": "1.5.0",
            "_view_count": null,
            "_view_module_version": "1.2.0",
            "_model_module": "@jupyter-widgets/controls"
          }
        },
        "3e32ee7eef08440bb30228b473d356f9": {
          "model_module": "@jupyter-widgets/base",
          "model_name": "LayoutModel",
          "state": {
            "_view_name": "LayoutView",
            "grid_template_rows": null,
            "right": null,
            "justify_content": null,
            "_view_module": "@jupyter-widgets/base",
            "overflow": null,
            "_model_module_version": "1.2.0",
            "_view_count": null,
            "flex_flow": null,
            "width": null,
            "min_width": null,
            "border": null,
            "align_items": null,
            "bottom": null,
            "_model_module": "@jupyter-widgets/base",
            "top": null,
            "grid_column": null,
            "overflow_y": null,
            "overflow_x": null,
            "grid_auto_flow": null,
            "grid_area": null,
            "grid_template_columns": null,
            "flex": null,
            "_model_name": "LayoutModel",
            "justify_items": null,
            "grid_row": null,
            "max_height": null,
            "align_content": null,
            "visibility": null,
            "align_self": null,
            "height": null,
            "min_height": null,
            "padding": null,
            "grid_auto_rows": null,
            "grid_gap": null,
            "max_width": null,
            "order": null,
            "_view_module_version": "1.2.0",
            "grid_template_areas": null,
            "object_position": null,
            "object_fit": null,
            "grid_auto_columns": null,
            "margin": null,
            "display": null,
            "left": null
          }
        },
        "d6632fc38ee84bda918a650f5ae93a0c": {
          "model_module": "@jupyter-widgets/controls",
          "model_name": "HBoxModel",
          "state": {
            "_view_name": "HBoxView",
            "_dom_classes": [],
            "_model_name": "HBoxModel",
            "_view_module": "@jupyter-widgets/controls",
            "_model_module_version": "1.5.0",
            "_view_count": null,
            "_view_module_version": "1.5.0",
            "box_style": "",
            "layout": "IPY_MODEL_b123dc6a5e7046489ab0dc34d16a2b17",
            "_model_module": "@jupyter-widgets/controls",
            "children": [
              "IPY_MODEL_dae5756f339348abb90fa14c630e5b0d",
              "IPY_MODEL_18ab6b7f6cc145e480cf283bb5685f61"
            ]
          }
        },
        "b123dc6a5e7046489ab0dc34d16a2b17": {
          "model_module": "@jupyter-widgets/base",
          "model_name": "LayoutModel",
          "state": {
            "_view_name": "LayoutView",
            "grid_template_rows": null,
            "right": null,
            "justify_content": null,
            "_view_module": "@jupyter-widgets/base",
            "overflow": null,
            "_model_module_version": "1.2.0",
            "_view_count": null,
            "flex_flow": null,
            "width": null,
            "min_width": null,
            "border": null,
            "align_items": null,
            "bottom": null,
            "_model_module": "@jupyter-widgets/base",
            "top": null,
            "grid_column": null,
            "overflow_y": null,
            "overflow_x": null,
            "grid_auto_flow": null,
            "grid_area": null,
            "grid_template_columns": null,
            "flex": null,
            "_model_name": "LayoutModel",
            "justify_items": null,
            "grid_row": null,
            "max_height": null,
            "align_content": null,
            "visibility": null,
            "align_self": null,
            "height": null,
            "min_height": null,
            "padding": null,
            "grid_auto_rows": null,
            "grid_gap": null,
            "max_width": null,
            "order": null,
            "_view_module_version": "1.2.0",
            "grid_template_areas": null,
            "object_position": null,
            "object_fit": null,
            "grid_auto_columns": null,
            "margin": null,
            "display": null,
            "left": null
          }
        },
        "dae5756f339348abb90fa14c630e5b0d": {
          "model_module": "@jupyter-widgets/controls",
          "model_name": "FloatProgressModel",
          "state": {
            "_view_name": "ProgressView",
            "style": "IPY_MODEL_49f4995972e34e67afa659121c398d15",
            "_dom_classes": [],
            "description": "",
            "_model_name": "FloatProgressModel",
            "bar_style": "info",
            "max": 1,
            "_view_module": "@jupyter-widgets/controls",
            "_model_module_version": "1.5.0",
            "value": 1,
            "_view_count": null,
            "_view_module_version": "1.5.0",
            "orientation": "horizontal",
            "min": 0,
            "description_tooltip": null,
            "_model_module": "@jupyter-widgets/controls",
            "layout": "IPY_MODEL_778c4acbe25c4e76ab39e3a7d22cc19c"
          }
        },
        "18ab6b7f6cc145e480cf283bb5685f61": {
          "model_module": "@jupyter-widgets/controls",
          "model_name": "HTMLModel",
          "state": {
            "_view_name": "HTMLView",
            "style": "IPY_MODEL_500b7c285557418d9ebddd6eef31292d",
            "_dom_classes": [],
            "description": "",
            "_model_name": "HTMLModel",
            "placeholder": "​",
            "_view_module": "@jupyter-widgets/controls",
            "_model_module_version": "1.5.0",
            "value": " 32768/? [00:19&lt;00:00, 151617.96it/s]",
            "_view_count": null,
            "_view_module_version": "1.5.0",
            "description_tooltip": null,
            "_model_module": "@jupyter-widgets/controls",
            "layout": "IPY_MODEL_50d95b04f0b94db9ad621cbac3e67c81"
          }
        },
        "49f4995972e34e67afa659121c398d15": {
          "model_module": "@jupyter-widgets/controls",
          "model_name": "ProgressStyleModel",
          "state": {
            "_view_name": "StyleView",
            "_model_name": "ProgressStyleModel",
            "description_width": "initial",
            "_view_module": "@jupyter-widgets/base",
            "_model_module_version": "1.5.0",
            "_view_count": null,
            "_view_module_version": "1.2.0",
            "bar_color": null,
            "_model_module": "@jupyter-widgets/controls"
          }
        },
        "778c4acbe25c4e76ab39e3a7d22cc19c": {
          "model_module": "@jupyter-widgets/base",
          "model_name": "LayoutModel",
          "state": {
            "_view_name": "LayoutView",
            "grid_template_rows": null,
            "right": null,
            "justify_content": null,
            "_view_module": "@jupyter-widgets/base",
            "overflow": null,
            "_model_module_version": "1.2.0",
            "_view_count": null,
            "flex_flow": null,
            "width": null,
            "min_width": null,
            "border": null,
            "align_items": null,
            "bottom": null,
            "_model_module": "@jupyter-widgets/base",
            "top": null,
            "grid_column": null,
            "overflow_y": null,
            "overflow_x": null,
            "grid_auto_flow": null,
            "grid_area": null,
            "grid_template_columns": null,
            "flex": null,
            "_model_name": "LayoutModel",
            "justify_items": null,
            "grid_row": null,
            "max_height": null,
            "align_content": null,
            "visibility": null,
            "align_self": null,
            "height": null,
            "min_height": null,
            "padding": null,
            "grid_auto_rows": null,
            "grid_gap": null,
            "max_width": null,
            "order": null,
            "_view_module_version": "1.2.0",
            "grid_template_areas": null,
            "object_position": null,
            "object_fit": null,
            "grid_auto_columns": null,
            "margin": null,
            "display": null,
            "left": null
          }
        },
        "500b7c285557418d9ebddd6eef31292d": {
          "model_module": "@jupyter-widgets/controls",
          "model_name": "DescriptionStyleModel",
          "state": {
            "_view_name": "StyleView",
            "_model_name": "DescriptionStyleModel",
            "description_width": "",
            "_view_module": "@jupyter-widgets/base",
            "_model_module_version": "1.5.0",
            "_view_count": null,
            "_view_module_version": "1.2.0",
            "_model_module": "@jupyter-widgets/controls"
          }
        },
        "50d95b04f0b94db9ad621cbac3e67c81": {
          "model_module": "@jupyter-widgets/base",
          "model_name": "LayoutModel",
          "state": {
            "_view_name": "LayoutView",
            "grid_template_rows": null,
            "right": null,
            "justify_content": null,
            "_view_module": "@jupyter-widgets/base",
            "overflow": null,
            "_model_module_version": "1.2.0",
            "_view_count": null,
            "flex_flow": null,
            "width": null,
            "min_width": null,
            "border": null,
            "align_items": null,
            "bottom": null,
            "_model_module": "@jupyter-widgets/base",
            "top": null,
            "grid_column": null,
            "overflow_y": null,
            "overflow_x": null,
            "grid_auto_flow": null,
            "grid_area": null,
            "grid_template_columns": null,
            "flex": null,
            "_model_name": "LayoutModel",
            "justify_items": null,
            "grid_row": null,
            "max_height": null,
            "align_content": null,
            "visibility": null,
            "align_self": null,
            "height": null,
            "min_height": null,
            "padding": null,
            "grid_auto_rows": null,
            "grid_gap": null,
            "max_width": null,
            "order": null,
            "_view_module_version": "1.2.0",
            "grid_template_areas": null,
            "object_position": null,
            "object_fit": null,
            "grid_auto_columns": null,
            "margin": null,
            "display": null,
            "left": null
          }
        },
        "fe026b96ce394801aa772ce48ff0413d": {
          "model_module": "@jupyter-widgets/controls",
          "model_name": "HBoxModel",
          "state": {
            "_view_name": "HBoxView",
            "_dom_classes": [],
            "_model_name": "HBoxModel",
            "_view_module": "@jupyter-widgets/controls",
            "_model_module_version": "1.5.0",
            "_view_count": null,
            "_view_module_version": "1.5.0",
            "box_style": "",
            "layout": "IPY_MODEL_d6c7c2121ecf49c0a64c1fb930752e89",
            "_model_module": "@jupyter-widgets/controls",
            "children": [
              "IPY_MODEL_783eea56df4c4e1a903d6c6af7acca8e",
              "IPY_MODEL_42a9d98aed6845e1872c7a71cc3290c0"
            ]
          }
        },
        "d6c7c2121ecf49c0a64c1fb930752e89": {
          "model_module": "@jupyter-widgets/base",
          "model_name": "LayoutModel",
          "state": {
            "_view_name": "LayoutView",
            "grid_template_rows": null,
            "right": null,
            "justify_content": null,
            "_view_module": "@jupyter-widgets/base",
            "overflow": null,
            "_model_module_version": "1.2.0",
            "_view_count": null,
            "flex_flow": null,
            "width": null,
            "min_width": null,
            "border": null,
            "align_items": null,
            "bottom": null,
            "_model_module": "@jupyter-widgets/base",
            "top": null,
            "grid_column": null,
            "overflow_y": null,
            "overflow_x": null,
            "grid_auto_flow": null,
            "grid_area": null,
            "grid_template_columns": null,
            "flex": null,
            "_model_name": "LayoutModel",
            "justify_items": null,
            "grid_row": null,
            "max_height": null,
            "align_content": null,
            "visibility": null,
            "align_self": null,
            "height": null,
            "min_height": null,
            "padding": null,
            "grid_auto_rows": null,
            "grid_gap": null,
            "max_width": null,
            "order": null,
            "_view_module_version": "1.2.0",
            "grid_template_areas": null,
            "object_position": null,
            "object_fit": null,
            "grid_auto_columns": null,
            "margin": null,
            "display": null,
            "left": null
          }
        },
        "783eea56df4c4e1a903d6c6af7acca8e": {
          "model_module": "@jupyter-widgets/controls",
          "model_name": "FloatProgressModel",
          "state": {
            "_view_name": "ProgressView",
            "style": "IPY_MODEL_3735bccf70664208b8c9a17b57a6e800",
            "_dom_classes": [],
            "description": "",
            "_model_name": "FloatProgressModel",
            "bar_style": "info",
            "max": 1,
            "_view_module": "@jupyter-widgets/controls",
            "_model_module_version": "1.5.0",
            "value": 1,
            "_view_count": null,
            "_view_module_version": "1.5.0",
            "orientation": "horizontal",
            "min": 0,
            "description_tooltip": null,
            "_model_module": "@jupyter-widgets/controls",
            "layout": "IPY_MODEL_adf6cc8a9c264345975c4a1d935ec980"
          }
        },
        "42a9d98aed6845e1872c7a71cc3290c0": {
          "model_module": "@jupyter-widgets/controls",
          "model_name": "HTMLModel",
          "state": {
            "_view_name": "HTMLView",
            "style": "IPY_MODEL_50aa7f621bfb4853a450f56df44bb2d3",
            "_dom_classes": [],
            "description": "",
            "_model_name": "HTMLModel",
            "placeholder": "​",
            "_view_module": "@jupyter-widgets/controls",
            "_model_module_version": "1.5.0",
            "value": " 1654784/? [00:19&lt;00:00, 9649820.13it/s]",
            "_view_count": null,
            "_view_module_version": "1.5.0",
            "description_tooltip": null,
            "_model_module": "@jupyter-widgets/controls",
            "layout": "IPY_MODEL_666243b0a6724c788f28df5cc9ab9bd3"
          }
        },
        "3735bccf70664208b8c9a17b57a6e800": {
          "model_module": "@jupyter-widgets/controls",
          "model_name": "ProgressStyleModel",
          "state": {
            "_view_name": "StyleView",
            "_model_name": "ProgressStyleModel",
            "description_width": "initial",
            "_view_module": "@jupyter-widgets/base",
            "_model_module_version": "1.5.0",
            "_view_count": null,
            "_view_module_version": "1.2.0",
            "bar_color": null,
            "_model_module": "@jupyter-widgets/controls"
          }
        },
        "adf6cc8a9c264345975c4a1d935ec980": {
          "model_module": "@jupyter-widgets/base",
          "model_name": "LayoutModel",
          "state": {
            "_view_name": "LayoutView",
            "grid_template_rows": null,
            "right": null,
            "justify_content": null,
            "_view_module": "@jupyter-widgets/base",
            "overflow": null,
            "_model_module_version": "1.2.0",
            "_view_count": null,
            "flex_flow": null,
            "width": null,
            "min_width": null,
            "border": null,
            "align_items": null,
            "bottom": null,
            "_model_module": "@jupyter-widgets/base",
            "top": null,
            "grid_column": null,
            "overflow_y": null,
            "overflow_x": null,
            "grid_auto_flow": null,
            "grid_area": null,
            "grid_template_columns": null,
            "flex": null,
            "_model_name": "LayoutModel",
            "justify_items": null,
            "grid_row": null,
            "max_height": null,
            "align_content": null,
            "visibility": null,
            "align_self": null,
            "height": null,
            "min_height": null,
            "padding": null,
            "grid_auto_rows": null,
            "grid_gap": null,
            "max_width": null,
            "order": null,
            "_view_module_version": "1.2.0",
            "grid_template_areas": null,
            "object_position": null,
            "object_fit": null,
            "grid_auto_columns": null,
            "margin": null,
            "display": null,
            "left": null
          }
        },
        "50aa7f621bfb4853a450f56df44bb2d3": {
          "model_module": "@jupyter-widgets/controls",
          "model_name": "DescriptionStyleModel",
          "state": {
            "_view_name": "StyleView",
            "_model_name": "DescriptionStyleModel",
            "description_width": "",
            "_view_module": "@jupyter-widgets/base",
            "_model_module_version": "1.5.0",
            "_view_count": null,
            "_view_module_version": "1.2.0",
            "_model_module": "@jupyter-widgets/controls"
          }
        },
        "666243b0a6724c788f28df5cc9ab9bd3": {
          "model_module": "@jupyter-widgets/base",
          "model_name": "LayoutModel",
          "state": {
            "_view_name": "LayoutView",
            "grid_template_rows": null,
            "right": null,
            "justify_content": null,
            "_view_module": "@jupyter-widgets/base",
            "overflow": null,
            "_model_module_version": "1.2.0",
            "_view_count": null,
            "flex_flow": null,
            "width": null,
            "min_width": null,
            "border": null,
            "align_items": null,
            "bottom": null,
            "_model_module": "@jupyter-widgets/base",
            "top": null,
            "grid_column": null,
            "overflow_y": null,
            "overflow_x": null,
            "grid_auto_flow": null,
            "grid_area": null,
            "grid_template_columns": null,
            "flex": null,
            "_model_name": "LayoutModel",
            "justify_items": null,
            "grid_row": null,
            "max_height": null,
            "align_content": null,
            "visibility": null,
            "align_self": null,
            "height": null,
            "min_height": null,
            "padding": null,
            "grid_auto_rows": null,
            "grid_gap": null,
            "max_width": null,
            "order": null,
            "_view_module_version": "1.2.0",
            "grid_template_areas": null,
            "object_position": null,
            "object_fit": null,
            "grid_auto_columns": null,
            "margin": null,
            "display": null,
            "left": null
          }
        },
        "7c5bd55f39064a7e800cc29a732db68e": {
          "model_module": "@jupyter-widgets/controls",
          "model_name": "HBoxModel",
          "state": {
            "_view_name": "HBoxView",
            "_dom_classes": [],
            "_model_name": "HBoxModel",
            "_view_module": "@jupyter-widgets/controls",
            "_model_module_version": "1.5.0",
            "_view_count": null,
            "_view_module_version": "1.5.0",
            "box_style": "",
            "layout": "IPY_MODEL_acbb5e5789da4864bb4a442b300bbfd4",
            "_model_module": "@jupyter-widgets/controls",
            "children": [
              "IPY_MODEL_6036135993d24054a78e2897ff3b70d0",
              "IPY_MODEL_a81673f6b714425893d7af73ca5b58e8"
            ]
          }
        },
        "acbb5e5789da4864bb4a442b300bbfd4": {
          "model_module": "@jupyter-widgets/base",
          "model_name": "LayoutModel",
          "state": {
            "_view_name": "LayoutView",
            "grid_template_rows": null,
            "right": null,
            "justify_content": null,
            "_view_module": "@jupyter-widgets/base",
            "overflow": null,
            "_model_module_version": "1.2.0",
            "_view_count": null,
            "flex_flow": null,
            "width": null,
            "min_width": null,
            "border": null,
            "align_items": null,
            "bottom": null,
            "_model_module": "@jupyter-widgets/base",
            "top": null,
            "grid_column": null,
            "overflow_y": null,
            "overflow_x": null,
            "grid_auto_flow": null,
            "grid_area": null,
            "grid_template_columns": null,
            "flex": null,
            "_model_name": "LayoutModel",
            "justify_items": null,
            "grid_row": null,
            "max_height": null,
            "align_content": null,
            "visibility": null,
            "align_self": null,
            "height": null,
            "min_height": null,
            "padding": null,
            "grid_auto_rows": null,
            "grid_gap": null,
            "max_width": null,
            "order": null,
            "_view_module_version": "1.2.0",
            "grid_template_areas": null,
            "object_position": null,
            "object_fit": null,
            "grid_auto_columns": null,
            "margin": null,
            "display": null,
            "left": null
          }
        },
        "6036135993d24054a78e2897ff3b70d0": {
          "model_module": "@jupyter-widgets/controls",
          "model_name": "FloatProgressModel",
          "state": {
            "_view_name": "ProgressView",
            "style": "IPY_MODEL_0314bd015bb14cb2abcf90dbb70c7dce",
            "_dom_classes": [],
            "description": "",
            "_model_name": "FloatProgressModel",
            "bar_style": "info",
            "max": 1,
            "_view_module": "@jupyter-widgets/controls",
            "_model_module_version": "1.5.0",
            "value": 0,
            "_view_count": null,
            "_view_module_version": "1.5.0",
            "orientation": "horizontal",
            "min": 0,
            "description_tooltip": null,
            "_model_module": "@jupyter-widgets/controls",
            "layout": "IPY_MODEL_9ed8452b877e4c558315654a24a73b08"
          }
        },
        "a81673f6b714425893d7af73ca5b58e8": {
          "model_module": "@jupyter-widgets/controls",
          "model_name": "HTMLModel",
          "state": {
            "_view_name": "HTMLView",
            "style": "IPY_MODEL_aea88124213a40fc8ec2e416c72f8a34",
            "_dom_classes": [],
            "description": "",
            "_model_name": "HTMLModel",
            "placeholder": "​",
            "_view_module": "@jupyter-widgets/controls",
            "_model_module_version": "1.5.0",
            "value": " 0/? [00:00&lt;?, ?it/s]",
            "_view_count": null,
            "_view_module_version": "1.5.0",
            "description_tooltip": null,
            "_model_module": "@jupyter-widgets/controls",
            "layout": "IPY_MODEL_4cd625d0370c4e4bb31a16be9c4a9921"
          }
        },
        "0314bd015bb14cb2abcf90dbb70c7dce": {
          "model_module": "@jupyter-widgets/controls",
          "model_name": "ProgressStyleModel",
          "state": {
            "_view_name": "StyleView",
            "_model_name": "ProgressStyleModel",
            "description_width": "initial",
            "_view_module": "@jupyter-widgets/base",
            "_model_module_version": "1.5.0",
            "_view_count": null,
            "_view_module_version": "1.2.0",
            "bar_color": null,
            "_model_module": "@jupyter-widgets/controls"
          }
        },
        "9ed8452b877e4c558315654a24a73b08": {
          "model_module": "@jupyter-widgets/base",
          "model_name": "LayoutModel",
          "state": {
            "_view_name": "LayoutView",
            "grid_template_rows": null,
            "right": null,
            "justify_content": null,
            "_view_module": "@jupyter-widgets/base",
            "overflow": null,
            "_model_module_version": "1.2.0",
            "_view_count": null,
            "flex_flow": null,
            "width": null,
            "min_width": null,
            "border": null,
            "align_items": null,
            "bottom": null,
            "_model_module": "@jupyter-widgets/base",
            "top": null,
            "grid_column": null,
            "overflow_y": null,
            "overflow_x": null,
            "grid_auto_flow": null,
            "grid_area": null,
            "grid_template_columns": null,
            "flex": null,
            "_model_name": "LayoutModel",
            "justify_items": null,
            "grid_row": null,
            "max_height": null,
            "align_content": null,
            "visibility": null,
            "align_self": null,
            "height": null,
            "min_height": null,
            "padding": null,
            "grid_auto_rows": null,
            "grid_gap": null,
            "max_width": null,
            "order": null,
            "_view_module_version": "1.2.0",
            "grid_template_areas": null,
            "object_position": null,
            "object_fit": null,
            "grid_auto_columns": null,
            "margin": null,
            "display": null,
            "left": null
          }
        },
        "aea88124213a40fc8ec2e416c72f8a34": {
          "model_module": "@jupyter-widgets/controls",
          "model_name": "DescriptionStyleModel",
          "state": {
            "_view_name": "StyleView",
            "_model_name": "DescriptionStyleModel",
            "description_width": "",
            "_view_module": "@jupyter-widgets/base",
            "_model_module_version": "1.5.0",
            "_view_count": null,
            "_view_module_version": "1.2.0",
            "_model_module": "@jupyter-widgets/controls"
          }
        },
        "4cd625d0370c4e4bb31a16be9c4a9921": {
          "model_module": "@jupyter-widgets/base",
          "model_name": "LayoutModel",
          "state": {
            "_view_name": "LayoutView",
            "grid_template_rows": null,
            "right": null,
            "justify_content": null,
            "_view_module": "@jupyter-widgets/base",
            "overflow": null,
            "_model_module_version": "1.2.0",
            "_view_count": null,
            "flex_flow": null,
            "width": null,
            "min_width": null,
            "border": null,
            "align_items": null,
            "bottom": null,
            "_model_module": "@jupyter-widgets/base",
            "top": null,
            "grid_column": null,
            "overflow_y": null,
            "overflow_x": null,
            "grid_auto_flow": null,
            "grid_area": null,
            "grid_template_columns": null,
            "flex": null,
            "_model_name": "LayoutModel",
            "justify_items": null,
            "grid_row": null,
            "max_height": null,
            "align_content": null,
            "visibility": null,
            "align_self": null,
            "height": null,
            "min_height": null,
            "padding": null,
            "grid_auto_rows": null,
            "grid_gap": null,
            "max_width": null,
            "order": null,
            "_view_module_version": "1.2.0",
            "grid_template_areas": null,
            "object_position": null,
            "object_fit": null,
            "grid_auto_columns": null,
            "margin": null,
            "display": null,
            "left": null
          }
        }
      }
    }
  },
  "cells": [
    {
      "cell_type": "markdown",
      "metadata": {
        "id": "view-in-github",
        "colab_type": "text"
      },
      "source": [
        "<a href=\"https://colab.research.google.com/github/EugenHotaj/nn-hallucinations/blob/master/gated_pixel_cnn.ipynb\" target=\"_parent\"><img src=\"https://colab.research.google.com/assets/colab-badge.svg\" alt=\"Open In Colab\"/></a>"
      ]
    },
    {
      "cell_type": "code",
      "metadata": {
        "id": "ij3tASXjtl0_",
        "colab_type": "code",
        "colab": {
          "base_uri": "https://localhost:8080/",
          "height": 153
        },
        "outputId": "458ab799-f286-46de-8739-753307718b94"
      },
      "source": [
        "!rm -rf nn_hallucinations\n",
        "!git clone https://www.github.com/EugenHotaj/nn-hallucinations nn_hallucinations"
      ],
      "execution_count": 9,
      "outputs": [
        {
          "output_type": "stream",
          "text": [
            "Cloning into 'nn_hallucinations'...\n",
            "warning: redirecting to https://github.com/EugenHotaj/nn-hallucinations.git/\n",
            "remote: Enumerating objects: 147, done.\u001b[K\n",
            "remote: Counting objects: 100% (147/147), done.\u001b[K\n",
            "remote: Compressing objects: 100% (133/133), done.\u001b[K\n",
            "remote: Total 147 (delta 74), reused 37 (delta 13), pack-reused 0\u001b[K\n",
            "Receiving objects: 100% (147/147), 13.53 MiB | 11.85 MiB/s, done.\n",
            "Resolving deltas: 100% (74/74), done.\n"
          ],
          "name": "stdout"
        }
      ]
    },
    {
      "cell_type": "code",
      "metadata": {
        "id": "fhbHjHAGuIQY",
        "colab_type": "code",
        "colab": {}
      },
      "source": [
        "from google.colab import files\n",
        "import matplotlib.pyplot as plt\n",
        "from nn_hallucinations.pytorch_generative import colab_utils, trainer\n",
        "import numpy as np\n",
        "import torch\n",
        "from torch import distributions\n",
        "from torch import nn\n",
        "from torch import optim\n",
        "from torch.nn import functional as F\n",
        "from torch.utils import data\n",
        "from torchvision import transforms\n",
        "from torchvision import datasets"
      ],
      "execution_count": 11,
      "outputs": []
    },
    {
      "cell_type": "code",
      "metadata": {
        "id": "UD2P_H8HS9Aw",
        "colab_type": "code",
        "colab": {}
      },
      "source": [
        "class Trainer(trainer.Trainer):\n",
        "\n",
        "  def _train_one_batch(self, x, y):\n",
        "    self._optimizer.zero_grad()\n",
        "    preds = self._model(x)\n",
        "    loss = self._loss_fn(x, y, preds)\n",
        "    loss.backward()\n",
        "    nn.utils.clip_grad_norm_(self._model.parameters(), .1)\n",
        "    self._optimizer.step()\n",
        "    return loss"
      ],
      "execution_count": 13,
      "outputs": []
    },
    {
      "cell_type": "code",
      "metadata": {
        "id": "PKzRg91VuUTM",
        "colab_type": "code",
        "colab": {
          "base_uri": "https://localhost:8080/",
          "height": 369,
          "referenced_widgets": [
            "fdcafe165b1c434785a521f10072212f",
            "5ada842c54bf42c2aafac23e9c3cd47b",
            "c205bd956222493c873f8fd75f6d4d4d",
            "6ae2305ee55a4bb49e4ed3fcd17b6314",
            "c194b4775d6b4ba1a61f688d3a1f80b8",
            "81ab1da4bb3142df90647abbee1fa8cd",
            "2dbe59f469ad47e982a218996faec4eb",
            "3e32ee7eef08440bb30228b473d356f9",
            "d6632fc38ee84bda918a650f5ae93a0c",
            "b123dc6a5e7046489ab0dc34d16a2b17",
            "dae5756f339348abb90fa14c630e5b0d",
            "18ab6b7f6cc145e480cf283bb5685f61",
            "49f4995972e34e67afa659121c398d15",
            "778c4acbe25c4e76ab39e3a7d22cc19c",
            "500b7c285557418d9ebddd6eef31292d",
            "50d95b04f0b94db9ad621cbac3e67c81",
            "fe026b96ce394801aa772ce48ff0413d",
            "d6c7c2121ecf49c0a64c1fb930752e89",
            "783eea56df4c4e1a903d6c6af7acca8e",
            "42a9d98aed6845e1872c7a71cc3290c0",
            "3735bccf70664208b8c9a17b57a6e800",
            "adf6cc8a9c264345975c4a1d935ec980",
            "50aa7f621bfb4853a450f56df44bb2d3",
            "666243b0a6724c788f28df5cc9ab9bd3",
            "7c5bd55f39064a7e800cc29a732db68e",
            "acbb5e5789da4864bb4a442b300bbfd4",
            "6036135993d24054a78e2897ff3b70d0",
            "a81673f6b714425893d7af73ca5b58e8",
            "0314bd015bb14cb2abcf90dbb70c7dce",
            "9ed8452b877e4c558315654a24a73b08",
            "aea88124213a40fc8ec2e416c72f8a34",
            "4cd625d0370c4e4bb31a16be9c4a9921"
          ]
        },
        "outputId": "88d51060-27d8-4d31-e398-99f60eaa86f6"
      },
      "source": [
        "BATCH_SIZE = 128\n",
        "\n",
        "TRANSFORM = transforms.Compose([\n",
        "    transforms.ToTensor(),\n",
        "    lambda x: distributions.Bernoulli(probs=x).sample()])\n",
        "\n",
        "train_loader = data.DataLoader(\n",
        "    datasets.MNIST('../data', train=True, download=True, transform=TRANSFORM),\n",
        "    batch_size=BATCH_SIZE, \n",
        "    shuffle=True,\n",
        "    pin_memory=True,\n",
        "    num_workers=4)\n",
        "test_loader = data.DataLoader(\n",
        "    datasets.MNIST('../data', train=False, download=True,transform=TRANSFORM),\n",
        "    batch_size=BATCH_SIZE,\n",
        "    pin_memory=True,\n",
        "    num_workers=4)"
      ],
      "execution_count": 14,
      "outputs": [
        {
          "output_type": "stream",
          "text": [
            "Downloading http://yann.lecun.com/exdb/mnist/train-images-idx3-ubyte.gz to ../data/MNIST/raw/train-images-idx3-ubyte.gz\n"
          ],
          "name": "stdout"
        },
        {
          "output_type": "display_data",
          "data": {
            "application/vnd.jupyter.widget-view+json": {
              "model_id": "fdcafe165b1c434785a521f10072212f",
              "version_minor": 0,
              "version_major": 2
            },
            "text/plain": [
              "HBox(children=(FloatProgress(value=1.0, bar_style='info', max=1.0), HTML(value='')))"
            ]
          },
          "metadata": {
            "tags": []
          }
        },
        {
          "output_type": "stream",
          "text": [
            "Extracting ../data/MNIST/raw/train-images-idx3-ubyte.gz to ../data/MNIST/raw\n",
            "Downloading http://yann.lecun.com/exdb/mnist/train-labels-idx1-ubyte.gz to ../data/MNIST/raw/train-labels-idx1-ubyte.gz\n",
            "\n"
          ],
          "name": "stdout"
        },
        {
          "output_type": "display_data",
          "data": {
            "application/vnd.jupyter.widget-view+json": {
              "model_id": "d6632fc38ee84bda918a650f5ae93a0c",
              "version_minor": 0,
              "version_major": 2
            },
            "text/plain": [
              "HBox(children=(FloatProgress(value=1.0, bar_style='info', max=1.0), HTML(value='')))"
            ]
          },
          "metadata": {
            "tags": []
          }
        },
        {
          "output_type": "stream",
          "text": [
            "Extracting ../data/MNIST/raw/train-labels-idx1-ubyte.gz to ../data/MNIST/raw\n",
            "Downloading http://yann.lecun.com/exdb/mnist/t10k-images-idx3-ubyte.gz to ../data/MNIST/raw/t10k-images-idx3-ubyte.gz\n"
          ],
          "name": "stdout"
        },
        {
          "output_type": "display_data",
          "data": {
            "application/vnd.jupyter.widget-view+json": {
              "model_id": "fe026b96ce394801aa772ce48ff0413d",
              "version_minor": 0,
              "version_major": 2
            },
            "text/plain": [
              "HBox(children=(FloatProgress(value=1.0, bar_style='info', max=1.0), HTML(value='')))"
            ]
          },
          "metadata": {
            "tags": []
          }
        },
        {
          "output_type": "stream",
          "text": [
            "Extracting ../data/MNIST/raw/t10k-images-idx3-ubyte.gz to ../data/MNIST/raw\n",
            "Downloading http://yann.lecun.com/exdb/mnist/t10k-labels-idx1-ubyte.gz to ../data/MNIST/raw/t10k-labels-idx1-ubyte.gz\n"
          ],
          "name": "stdout"
        },
        {
          "output_type": "display_data",
          "data": {
            "application/vnd.jupyter.widget-view+json": {
              "model_id": "7c5bd55f39064a7e800cc29a732db68e",
              "version_minor": 0,
              "version_major": 2
            },
            "text/plain": [
              "HBox(children=(FloatProgress(value=1.0, bar_style='info', max=1.0), HTML(value='')))"
            ]
          },
          "metadata": {
            "tags": []
          }
        },
        {
          "output_type": "stream",
          "text": [
            "Extracting ../data/MNIST/raw/t10k-labels-idx1-ubyte.gz to ../data/MNIST/raw\n",
            "Processing...\n",
            "Done!\n"
          ],
          "name": "stdout"
        },
        {
          "output_type": "stream",
          "text": [
            "/pytorch/torch/csrc/utils/tensor_numpy.cpp:141: UserWarning: The given NumPy array is not writeable, and PyTorch does not support non-writeable tensors. This means you can write to the underlying (supposedly non-writeable) NumPy array using the tensor. You may want to copy the array to protect its data or make it writeable before converting it to a tensor. This type of warning will be suppressed for the rest of this program.\n"
          ],
          "name": "stderr"
        }
      ]
    },
    {
      "cell_type": "code",
      "metadata": {
        "id": "aLCatRxBJIBJ",
        "colab_type": "code",
        "colab": {}
      },
      "source": [
        "class GatedActivation(nn.Module):\n",
        "  \"\"\"A gated activation function [1].\n",
        "  \n",
        "  The function computes 'tanh(f) * sigmoid(g)' where 'f' and 'g' are the top \n",
        "  1/2 and bottom 1/2 of the channels for some input image 'x'.\n",
        "\n",
        "  [1]: https://arxiv.org/abs/1606.05328\n",
        "  \"\"\"\n",
        "\n",
        "  def forward(self, x):\n",
        "    _, c, _, _ = x.shape\n",
        "    assert c % 2 == 0, 'x must have an even number of channels.'\n",
        "    tanh, sigmoid = x[:, :c//2, :, :], x[:, c//2:, :, :]\n",
        "    return torch.tanh(tanh) * torch.sigmoid(sigmoid)\n",
        "\n",
        "\n",
        "class GatedPixelCNNLayer(nn.Module):\n",
        "  \"\"\"A Gated PixelCNN layer [1].\n",
        "\n",
        "  We follow the implementaiton in [2]. For efficiency, the masked Nx1 and 1xN\n",
        "  convolutions are implemented via unmasked (N//2+1)x1 and 1x(N//2+1) \n",
        "  convolutions with padding and cropping, as suggested in [1].\n",
        "\n",
        "  N.B.: This layer does *not* implement autoregressive channel masking. For \n",
        "  outputs with multiple channels, other methods can be used, e.g. [3]. \n",
        "\n",
        "  The layer takes as input 'vstack' and 'hstack' from previous \n",
        "  'GatedPixelCNNLayers' and returns 'vstack', 'hstack', 'skip' where 'skip' is\n",
        "  the skip connection to the pre-logits layer.\n",
        "\n",
        "  [1]: https://arxiv.org/abs/1606.05328\n",
        "  [2]: http://www.scottreed.info/files/iclr2017.pdf\n",
        "  [3]: https://arxiv.org/abs/1701.05517\n",
        "  \"\"\"\n",
        "\n",
        "  def __init__(self, in_channels, out_channels, kernel_size=3, is_causal=False):\n",
        "    \"\"\"Initializes a new GatedPixelCNNLayer instance.\n",
        "\n",
        "    Args:\n",
        "      in_channels: The number of channels in the input.\n",
        "      out_channels: The number of output channels.\n",
        "      kernel_size: The size of the (masked) convolutional kernel to use.\n",
        "      is_causal: Whether the 'GatedPixelCNNLayer' is causal. If 'True', the \n",
        "        current pixel is masked out so the computation only depends on pixels\n",
        "        to the left and above. The residual connection in the horizontal stack\n",
        "        is also removed.\n",
        "    \"\"\"\n",
        "    super().__init__()\n",
        "\n",
        "    assert kernel_size % 2 == 1, 'kernel_size cannot be even'\n",
        "\n",
        "    self._in_channels = in_channels\n",
        "    self._out_channels = out_channels\n",
        "    self._activation = GatedActivation()\n",
        "    self._kernel_size = kernel_size\n",
        "    self._padding = (kernel_size - 1) // 2  # (kernel_size - stride) / 2\n",
        "    self._is_causal = is_causal\n",
        "\n",
        "    # Vertical stack convolutions.\n",
        "    self._vstack_1xN = nn.Conv2d(\n",
        "        in_channels=self._in_channels, out_channels=self._out_channels, \n",
        "        kernel_size=(1, self._kernel_size),\n",
        "        padding=(0, self._padding))\n",
        "    # TODO(eugenhotaj): Is it better to shift down the the vstack_Nx1 output\n",
        "    # instead of adding extra padding to the convolution? When we add extra \n",
        "    # padding, the cropped output rows will no longer line up with the rows of \n",
        "    # the vstack_1x1 output.\n",
        "    self._vstack_Nx1 = nn.Conv2d(\n",
        "        in_channels=self._out_channels, out_channels=2*self._out_channels,\n",
        "        kernel_size=(self._kernel_size//2 + 1, 1),\n",
        "        padding=(self._padding + 1, 0))\n",
        "    self._vstack_1x1 = nn.Conv2d(\n",
        "        in_channels=in_channels, out_channels=2*out_channels, kernel_size=1)\n",
        "\n",
        "    self._link = nn.Conv2d(\n",
        "        in_channels=2*out_channels, out_channels=2*out_channels, kernel_size=1)\n",
        "\n",
        "    # Horizontal stack convolutions.\n",
        "    self._hstack_1xN = nn.Conv2d(\n",
        "        in_channels=self._in_channels, out_channels=2*self._out_channels,\n",
        "        kernel_size=(1, self._kernel_size//2 + 1),\n",
        "        padding=(0, self._padding + int(self._is_causal)))\n",
        "    self._hstack_residual = nn.Conv2d(\n",
        "        in_channels=out_channels, out_channels=out_channels, kernel_size=1)\n",
        "    self._hstack_skip = nn.Conv2d(\n",
        "        in_channels=out_channels, out_channels=out_channels, kernel_size=1)\n",
        "\n",
        "  def forward(self, vstack_input, hstack_input):\n",
        "    \"\"\"Computes the forward pass.\n",
        "    \n",
        "    Args:\n",
        "      vstack_input: The input to the vertical stack.\n",
        "      hstack_input: The input to the horizontal stack.\n",
        "    Returns:\n",
        "      (vstack,  hstack, skip) where vstack and hstack are the vertical stack\n",
        "      and horizontal stack outputs respectively and skip is the skip connection\n",
        "      output. \n",
        "    \"\"\"\n",
        "    _, _, h, w = vstack_input.shape  # Assuming NCHW.\n",
        "\n",
        "    # Compute vertical stack.\n",
        "    vstack = self._vstack_Nx1(self._vstack_1xN(vstack_input))[:, :, :h, :]\n",
        "    link = self._link(vstack)\n",
        "    vstack += self._vstack_1x1(vstack_input)\n",
        "    vstack = self._activation(vstack)\n",
        "\n",
        "    # Compute horizontal stack.\n",
        "    hstack = link + self._hstack_1xN(hstack_input)[:, :, :, :w]\n",
        "    hstack = self._activation(hstack)\n",
        "    skip = self._hstack_skip(hstack)\n",
        "    hstack = self._hstack_residual(hstack)\n",
        "    # NOTE(eugenhotaj): We cannot use a residual connection for causal layers\n",
        "    # otherwise we'll have access to future pixels.\n",
        "    if not self._is_causal:\n",
        "      hstack += hstack_input\n",
        "\n",
        "    return vstack, hstack, skip\n",
        "\n",
        "\n",
        "class GatedPixelCNN(nn.Module):\n",
        "  \"\"\"The Gated PixelCNN model.\n",
        "  \n",
        "  We follow the implementation in [1]. However, unlike [1], for the input we use\n",
        "  a causually masked 'GatedPixelCNNLayer', instead of a masked 2d convolution.\n",
        "\n",
        "  [1]: http://www.scottreed.info/files/iclr2017.pdf\n",
        "  \"\"\"\n",
        "\n",
        "  def __init__(self, \n",
        "               in_channels, \n",
        "               n_gated=10,\n",
        "               gated_channels=128,\n",
        "               head_channels=32):\n",
        "    \"\"\"Initializes a new GatedPixelCNN instance.\n",
        "    \n",
        "    Args:\n",
        "      in_channels: The number of channels in the input.\n",
        "      n_channels: The number of gated layers (not including the input layers).\n",
        "      gated_channels: The number of channels to use in the gated layers.\n",
        "      head_channels: The number of channels to use in the 1x1 convolution blocks\n",
        "        in the head after all the gated channels.\n",
        "    \"\"\"\n",
        "\n",
        "    super().__init__()\n",
        "    self._input = GatedPixelCNNLayer(\n",
        "      in_channels=in_channels,\n",
        "      out_channels=gated_channels,\n",
        "      kernel_size=7,\n",
        "      is_causal=True)\n",
        "    self._gated_layers = nn.ModuleList([\n",
        "        GatedPixelCNNLayer(in_channels=gated_channels, \n",
        "                           out_channels=gated_channels,\n",
        "                           kernel_size=3,\n",
        "                           is_causal=False)\n",
        "        for _ in range(n_gated)\n",
        "    ])\n",
        "    self._head = nn.Sequential(\n",
        "        nn.ReLU(),\n",
        "        nn.Conv2d(in_channels=gated_channels, \n",
        "                  out_channels=head_channels, \n",
        "                  kernel_size=1),\n",
        "        nn.ReLU(),\n",
        "        nn.Conv2d(in_channels=head_channels, \n",
        "                  out_channels=in_channels,\n",
        "                  kernel_size=1),\n",
        "        nn.Sigmoid())\n",
        "\n",
        "  def forward(self, x):\n",
        "    vstack, hstack, skip_connections = self._input(x, x)\n",
        "    for gated_layer in self._gated_layers:\n",
        "      vstack, hstack, skip = gated_layer(vstack, hstack)\n",
        "      skip_connections += skip\n",
        "    return self._head(skip_connections)\n",
        "\n",
        "\n",
        "  def sample(self, condition_on):\n",
        "    \"\"\"Samples a new image.\n",
        "    \n",
        "    Args:\n",
        "      conditioned_on: An (optional) image to condition samples on. Only \n",
        "        dimensions with values < 0 will be sampled. For example, if \n",
        "        conditioned_on[i] = -1, then output[i] will be sampled conditioned on\n",
        "        dimensions j < i. If 'None', an unconditional sample will be generated.\n",
        "    \"\"\"\n",
        "    with torch.no_grad():\n",
        "    \n",
        "      for dim in ordering:\n",
        "        conditioned_on[:, dim] = torch.where(\n",
        "            conditioned_on[:, dim] < 0, out, conditioned_on[:, dim])\n",
        "      return conditioned_on\n",
        "\n",
        "    with torch.no_grad():\n",
        "      if conditioned_on is None:\n",
        "        device = next(self.parameters()).device\n",
        "        conditioned_on = (torch.ones((1, self._input_dim)) * - 1).to(device)\n",
        "      else:\n",
        "        conditioned_on = conditioned_on.clone()\n",
        "\n",
        "      for row in range(28):\n",
        "        for column in range(28):\n",
        "          for channel in range(1):\n",
        "            out = self.forward(conditioned_on)[:, channel, row, column]\n",
        "            out = distributions.Bernoulli(probs=out).sample()\n",
        "            conditioned_on[:, channel, row, column] = torch.where(\n",
        "                conditioned_on[:, channel, row, column] < 0, out, \n",
        "                conditioned_on[:, channel, row, column])\n",
        "      return conditioned_on"
      ],
      "execution_count": 16,
      "outputs": []
    },
    {
      "cell_type": "code",
      "metadata": {
        "id": "p9DI91SY4Cg5",
        "colab_type": "code",
        "colab": {
          "base_uri": "https://localhost:8080/",
          "height": 34
        },
        "outputId": "c0f0815b-6e3c-44bf-a8fa-04d3f63bf5b1"
      },
      "source": [
        "IN_CHANNELS = 1\n",
        "N_GATED = 10\n",
        "GATED_CHANNELS = 128\n",
        "HEAD_CHANNELS = 32\n",
        "\n",
        "N_EPOCHS = 50\n",
        "\n",
        "torch.cuda.empty_cache()\n",
        "model = GatedPixelCNN(IN_CHANNELS, N_GATED, GATED_CHANNELS, HEAD_CHANNELS\n",
        "                      ).to(colab_utils.get_device())\n",
        "optimizer = optim.Adam(model.parameters(), lr=1e-4)\n",
        "bce_loss_fn = nn.BCELoss(reduction='none')\n",
        "\n",
        "def loss_fn(x, _, preds):\n",
        "  batch_size = x.shape[0]\n",
        "  x, preds = x.view((batch_size, -1)), preds.view((batch_size, -1))\n",
        "  return bce_loss_fn(preds, x).sum(dim=1).mean()\n",
        "\n",
        "model_trainer = Trainer(model, loss_fn, optimizer, train_loader, test_loader,\n",
        "                        colab_utils.get_device())\n",
        "model_trainer.interleaved_train_and_eval(N_EPOCHS)"
      ],
      "execution_count": 19,
      "outputs": [
        {
          "output_type": "stream",
          "text": [
            "[1|4494]: train_loss=499.3795649414063 eval_loss=432.1705076171875\n"
          ],
          "name": "stdout"
        }
      ]
    },
    {
      "cell_type": "code",
      "metadata": {
        "id": "9gjXKprXr4VA",
        "colab_type": "code",
        "colab": {
          "base_uri": "https://localhost:8080/",
          "height": 497
        },
        "outputId": "146c54d5-0563-4d22-a53e-6a8fff57ce51"
      },
      "source": [
        "epochs = len(model_trainer.train_losses)\n",
        "plt.figure(figsize=(8, 8))\n",
        "plt.plot(range(epochs), model_trainer.train_losses)\n",
        "plt.plot(range(epochs), model_trainer.eval_losses)\n",
        "plt.legend(['train', 'test'])\n",
        "plt.xlabel('epoch')\n",
        "plt.ylabel('loss')\n",
        "plt.show()"
      ],
      "execution_count": 20,
      "outputs": [
        {
          "output_type": "display_data",
          "data": {
            "image/png": "[encoded data removed]",
            "text/plain": [
              "<Figure size 576x576 with 1 Axes>"
            ]
          },
          "metadata": {
            "tags": [],
            "needs_background": "light"
          }
        }
      ]
    },
    {
      "cell_type": "code",
      "metadata": {
        "id": "h5lS_Mgj4LSk",
        "colab_type": "code",
        "colab": {}
      },
      "source": [
        "def show_random(model, dataset):\n",
        "  idx = np.random.choice(len(dataset))\n",
        "  img = dataset[idx][0].unsqueeze(0).to(colab_utils.get_device())\n",
        "  img_hat = model(img)\n",
        "  colab_utils.imshow(img.reshape(28, 28))\n",
        "  colab_utils.imshow(img_hat.reshape(28, 28))\n",
        "\n",
        "\n",
        "def sample(model):\n",
        "  colab_utils.imshow(model.sample().reshape(28, 28))\n",
        "\n",
        "\n",
        "def conditional_sample_random(model, dataset):\n",
        "  idx = np.random.choice(len(dataset))\n",
        "  img = dataset[idx][0].reshape(1, -1).to(colab_utils.get_device())\n",
        "  img[0, 300:600] = -1\n",
        "  colab_utils.imshow(img.reshape(28, 28))\n",
        "  plt.show()\n",
        "  print(\"Conditional Samples:\")\n",
        "  for i in range(5):\n",
        "    img_hat = model.sample(img)\n",
        "    colab_utils.imshow(img_hat.reshape(28, 28))"
      ],
      "execution_count": 21,
      "outputs": []
    },
    {
      "cell_type": "code",
      "metadata": {
        "id": "bZZZOkGQ4gBZ",
        "colab_type": "code",
        "colab": {
          "base_uri": "https://localhost:8080/",
          "height": 479
        },
        "outputId": "d5b916e5-5916-49ab-c6f3-dea0746a4af6"
      },
      "source": [
        "show_random(model, test_loader.dataset)"
      ],
      "execution_count": null,
      "outputs": [
        {
          "output_type": "display_data",
          "data": {
            "image/png": "[encoded data removed]",
            "text/plain": [
              "<Figure size 432x288 with 1 Axes>"
            ]
          },
          "metadata": {
            "tags": [],
            "needs_background": "light"
          }
        },
        {
          "output_type": "display_data",
          "data": {
            "image/png": "[encoded data removed]",
            "text/plain": [
              "<Figure size 432x288 with 1 Axes>"
            ]
          },
          "metadata": {
            "tags": [],
            "needs_background": "light"
          }
        }
      ]
    },
    {
      "cell_type": "code",
      "metadata": {
        "id": "nLNniD4LTRxa",
        "colab_type": "code",
        "colab": {
          "base_uri": "https://localhost:8080/",
          "height": 479
        },
        "outputId": "6f1d025b-63d3-4866-f0c9-7fe71fd957fd"
      },
      "source": [
        "img = next(iter(debug_loader))[0].to(colab_utils.get_device())\n",
        "img_hat = model(img)\n",
        "colab_utils.imshow(img.reshape(28, 28))\n",
        "colab_utils.imshow(img_hat.reshape(28, 28))\n"
      ],
      "execution_count": null,
      "outputs": [
        {
          "output_type": "display_data",
          "data": {
            "image/png": "[encoded data removed]",
            "text/plain": [
              "<Figure size 432x288 with 1 Axes>"
            ]
          },
          "metadata": {
            "tags": [],
            "needs_background": "light"
          }
        },
        {
          "output_type": "display_data",
          "data": {
            "image/png": "[encoded data removed]",
            "text/plain": [
              "<Figure size 432x288 with 1 Axes>"
            ]
          },
          "metadata": {
            "tags": [],
            "needs_background": "light"
          }
        }
      ]
    },
    {
      "cell_type": "code",
      "metadata": {
        "id": "PEn_aUj_576j",
        "colab_type": "code",
        "colab": {
          "base_uri": "https://localhost:8080/",
          "height": 248
        },
        "outputId": "8ae013d6-00f2-48f6-fd44-a80600bd0ca4"
      },
      "source": [
        "sample(model)"
      ],
      "execution_count": null,
      "outputs": [
        {
          "output_type": "display_data",
          "data": {
            "image/png": "[encoded data removed]",
            "text/plain": [
              "<Figure size 432x288 with 1 Axes>"
            ]
          },
          "metadata": {
            "tags": [],
            "needs_background": "light"
          }
        }
      ]
    }
  ]
}